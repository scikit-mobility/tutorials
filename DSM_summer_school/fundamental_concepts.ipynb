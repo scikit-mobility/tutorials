{
 "cells": [
  {
   "cell_type": "markdown",
   "id": "571f32b9",
   "metadata": {},
   "source": [
    "**First International Summer School in Data Science for Mobility (DSM)**, 3-7 October 2022, Santorini, Greece\n",
    "\n",
    "<img width=200, src=\"http://master-school.isti.cnr.it/wp-content/uploads/2022/05/logo-Summer-School-Mobility-2022.png\"/>\n",
    "\n",
    "Author: [Luca Pappalardo](https://twitter.com/lucpappalard)"
   ]
  },
  {
   "cell_type": "markdown",
   "id": "4f993710",
   "metadata": {},
   "source": [
    "# Fundamental Python libraries for Mobility Analysis in Python\n",
    "\n",
    "In this lesson, we will learn how to handle spatial data in Python using Shapely, Geopandas, and scikit-mobility.\n",
    "\n",
    "1. [Shapely](#shapely)\n",
    "    - [Point](#point)\n",
    "    - [LineString](#linestring)\n",
    "    - [Polygon](#polygon)\n",
    "    - [Geometry Collections](#geometrycollections)\n",
    "2. [Geopandas](#geopandas)\n",
    "    - [Reading a shapefile](#readingshapefile)\n",
    "    - [Geometries](#geometriesgeopandas)\n",
    "    - [Writing data](#writingdata)\n",
    "    - [Spatial joins](#sjoins)\n",
    "    - [Practice](#practicegeopandas)\n",
    "3. [Folium](#folium)\n",
    "    - [Creating a map](#creatingmap)\n",
    "    - [Markers](#markers)\n",
    "    - [Overlays](#overlays)\n",
    "4. [scikit-mobility](#scikitmobility)\n",
    "    - [Data Structures](#datastructures)\n",
    "        - [TrajDataFrame](#trajdataframe)\n",
    "        - [Tessellation](#tessellation)\n",
    "        - [FlowDataFrame](#flowdataframe)\n",
    "5. [Exercises](#exercises)\n",
    "6. [References](#references)"
   ]
  },
  {
   "cell_type": "markdown",
   "id": "0aa81fcc",
   "metadata": {},
   "source": [
    "<a id='shapely'></a>\n",
    "# Shapely"
   ]
  },
  {
   "cell_type": "markdown",
   "id": "7949c0b6",
   "metadata": {},
   "source": [
    "In [**Shapely**](https://shapely.readthedocs.io/en/stable/manual.html), the most fundamental geometric objects are `Point`, `Line` and `Polygon`, the basic ingredients when working with spatial data in the [vector data format](https://saylordotorg.github.io/text_essentials-of-geographic-information-systems/s08-02-vector-data-models.html). \n",
    "\n",
    "Basic knowledge of using Shapely is fundamental for understanding how geometries are stored and handled in GeoPandas and scikit-mobility."
   ]
  },
  {
   "cell_type": "markdown",
   "id": "760ebca3",
   "metadata": {},
   "source": [
    "Geometric objects consist of coordinate tuples where:\n",
    "\n",
    "- `Point` represents a single point in space. Points can be either two-dimensional $(x, y)$ or three dimensional $(x, y, z)$\n",
    "\n",
    "- `LineString` (i.e., a line) represents a sequence of points joined together to form a line. Hence, a line consist of a list of at least two coordinate tuples\n",
    "\n",
    "- `Polygon` represents a filled area that consists of a list of at least three coordinate tuples that forms the outerior ring and a (possible) list of hole polygons"
   ]
  },
  {
   "cell_type": "markdown",
   "id": "8916aaf2",
   "metadata": {},
   "source": [
    "It is also possible to have a collection of geometric objects (e.g., `Polygon`s with multiple parts):\n",
    "\n",
    "- `MultiPoint` object: represents a collection of `Point`s and consists of a list of coordinate-tuples\n",
    "\n",
    "- `MultiLineString` object: represents a collection of `LineString`s and consists of a list of line-like sequences\n",
    "\n",
    "- `MultiPolygon` object: represents a collection of `Polygon`s that consists of a list of polygon-like sequences that construct from exterior ring and (possible) hole list tuples"
   ]
  },
  {
   "cell_type": "markdown",
   "id": "7292e0f7",
   "metadata": {},
   "source": [
    "![](https://autogis-site.readthedocs.io/en/latest/_images/SpatialDataModel.PNG)"
   ]
  },
  {
   "cell_type": "markdown",
   "id": "406e783a",
   "metadata": {},
   "source": [
    "<a id=\"point\"></a>\n",
    "## Point\n",
    "Creating point is easy, you pass $x$ and $y$ coordinates into `Point()` object (+ possibly also $z$ coordinate):"
   ]
  },
  {
   "cell_type": "code",
   "execution_count": null,
   "id": "4866265b",
   "metadata": {},
   "outputs": [],
   "source": [
    "# Import necessary geometric objects from shapely module\n",
    "from shapely.geometry import Point, LineString, Polygon"
   ]
  },
  {
   "cell_type": "code",
   "execution_count": null,
   "id": "5ed4ee79-dfee-4370-b1e3-b319eadbabd3",
   "metadata": {},
   "outputs": [],
   "source": [
    "# Create Point geometric object(s) with coordinates\n",
    "point1 = Point(2.2, 4.2)\n",
    "point2 = Point(7.2, -25.1)\n",
    "point3 = Point(9.26, -2.456)\n",
    "point3D = Point(9.26, -2.456, 0.57)"
   ]
  },
  {
   "cell_type": "code",
   "execution_count": null,
   "id": "eef50fef",
   "metadata": {},
   "outputs": [],
   "source": [
    "point1"
   ]
  },
  {
   "cell_type": "code",
   "execution_count": null,
   "id": "6366522c",
   "metadata": {},
   "outputs": [],
   "source": [
    "type(point1)"
   ]
  },
  {
   "cell_type": "markdown",
   "id": "0d2820b1",
   "metadata": {},
   "source": [
    "The type of the point is Shapely’s `Point`. The point object is represented in a specific format based on GEOS C++ library that is one of the standard libraries behind various GIS, e.g., QGIS."
   ]
  },
  {
   "cell_type": "code",
   "execution_count": null,
   "id": "d4d12c65",
   "metadata": {},
   "outputs": [],
   "source": [
    "print(point1)"
   ]
  },
  {
   "cell_type": "code",
   "execution_count": null,
   "id": "675f23d1",
   "metadata": {},
   "outputs": [],
   "source": [
    "print(point3D)"
   ]
  },
  {
   "cell_type": "markdown",
   "id": "59e5867c",
   "metadata": {},
   "source": [
    "### Attributes and functions\n",
    "`Point`s and other Shapely objects have useful built-in attributes and methods. Using the available attributes, we can extract the coordinate values of a `Point` and calculate the Euclidean distance between points.\n",
    "\n",
    "`geom_type` attribute contains information about the geometry type of the Shapely object:"
   ]
  },
  {
   "cell_type": "code",
   "execution_count": null,
   "id": "1675240e",
   "metadata": {},
   "outputs": [],
   "source": [
    "point1.geom_type"
   ]
  },
  {
   "cell_type": "markdown",
   "id": "d6c32745",
   "metadata": {},
   "source": [
    "Extracting the coordinates of a `Point` can be done in a couple of different ways:\n",
    "\n",
    "- `coords` attribute contains the coordinate information as a `CoordinateSequence` (list) which is another data type related to Shapely\n",
    "- Using the attributes `x` and `y` to get the coordinates directly as plain decimal numbers"
   ]
  },
  {
   "cell_type": "code",
   "execution_count": null,
   "id": "79911401",
   "metadata": {},
   "outputs": [],
   "source": [
    "# Get xy coordinate tuple\n",
    "list(point1.coords)"
   ]
  },
  {
   "cell_type": "code",
   "execution_count": null,
   "id": "90d5efbd",
   "metadata": {},
   "outputs": [],
   "source": [
    "# Read x and y coordinates separately\n",
    "x = point1.x\n",
    "y = point1.y\n",
    "x, y"
   ]
  },
  {
   "cell_type": "markdown",
   "id": "cb6dae08",
   "metadata": {},
   "source": [
    "<a id=\"linestring\"></a>\n",
    "## LineString\n",
    "Creating `LineString` objects is fairly similar to creating Shapely `Point`s.\n",
    "\n",
    "Now instead using a single coordinate-tuple we can construct the line using either a list of Shapely `Point` objects or pass the points as coordinate-tuples:"
   ]
  },
  {
   "cell_type": "code",
   "execution_count": null,
   "id": "7a62f7fc",
   "metadata": {},
   "outputs": [],
   "source": [
    "# Create a LineString from our Point objects\n",
    "line = LineString([point1, point2, point3])\n",
    "\n",
    "# It is also possible to produce the same outcome using coordinate tuples\n",
    "line2 = LineString([(2.2, 4.2), (7.2, -25.1), (9.26, -2.456)])\n",
    "\n",
    "# Check if lines are identical\n",
    "line == line2 "
   ]
  },
  {
   "cell_type": "code",
   "execution_count": null,
   "id": "116b4715",
   "metadata": {},
   "outputs": [],
   "source": [
    "# Check data type of the line object\n",
    "type(line)"
   ]
  },
  {
   "cell_type": "code",
   "execution_count": null,
   "id": "bfb5d16c",
   "metadata": {},
   "outputs": [],
   "source": [
    "# Check geometry type of the line object\n",
    "line.geom_type"
   ]
  },
  {
   "cell_type": "code",
   "execution_count": null,
   "id": "624545e2",
   "metadata": {},
   "outputs": [],
   "source": [
    "line.coords"
   ]
  },
  {
   "cell_type": "code",
   "execution_count": null,
   "id": "6f09885a",
   "metadata": {},
   "outputs": [],
   "source": [
    "print(line)"
   ]
  },
  {
   "cell_type": "code",
   "execution_count": null,
   "id": "c9357891-aab7-41ef-8b03-8454207855a4",
   "metadata": {},
   "outputs": [],
   "source": [
    "line"
   ]
  },
  {
   "cell_type": "markdown",
   "id": "72a46bfa",
   "metadata": {},
   "source": [
    "### Attributes and functions\n",
    "`LineString` object has many useful built-in attributes and functionalities. It is for instance possible to extract the coordinates or the length of a `LineString` (line), calculate the centroid of the line, create points along the line at specific distance, calculate the closest distance from a line to specified `Point` and simplify the geometry. \n",
    "\n",
    "We can extract the coordinates of a `LineString` similarly as with `Point`:"
   ]
  },
  {
   "cell_type": "code",
   "execution_count": null,
   "id": "3cc19588",
   "metadata": {},
   "outputs": [],
   "source": [
    "# Get xy coordinate tuples\n",
    "list(line.coords)"
   ]
  },
  {
   "cell_type": "markdown",
   "id": "778e1416",
   "metadata": {},
   "source": [
    "If you would need to access all x-coordinates or all y-coordinates of the line, you can do it directly using the `xy` attribute:"
   ]
  },
  {
   "cell_type": "code",
   "execution_count": null,
   "id": "903a6c91-b583-44ee-8b0e-cfe5881c1ae1",
   "metadata": {},
   "outputs": [],
   "source": [
    "line.xy"
   ]
  },
  {
   "cell_type": "code",
   "execution_count": null,
   "id": "4c5369a0",
   "metadata": {},
   "outputs": [],
   "source": [
    "# Extract x and y coordinates separately\n",
    "xcoords = list(line.xy[0])\n",
    "ycoords = list(line.xy[1])\n",
    "\n",
    "print(xcoords)\n",
    "print(ycoords)"
   ]
  },
  {
   "cell_type": "markdown",
   "id": "61c3e97a",
   "metadata": {},
   "source": [
    "It is possible to retrieve specific attributes such as the `length` of the line and center of the line (`centroid`) straight from the `LineString` object itself:"
   ]
  },
  {
   "cell_type": "code",
   "execution_count": null,
   "id": "87d00f92",
   "metadata": {},
   "outputs": [],
   "source": [
    "# Get the lenght of the line\n",
    "l_length = line.length\n",
    "print(f\"Length of our line: {l_length} units\")"
   ]
  },
  {
   "cell_type": "code",
   "execution_count": null,
   "id": "210dc6b4",
   "metadata": {},
   "outputs": [],
   "source": [
    "# Get the centroid of the line\n",
    "print(line.centroid)"
   ]
  },
  {
   "cell_type": "markdown",
   "id": "74249f85",
   "metadata": {},
   "source": [
    "<a id=\"polygon\"></a>\n",
    "## Polygon\n",
    "Creating a `Polygon` object continues the same logic of how `Point` and `LineString` were created but `Polygon` object only accepts a sequence of coordinates as input.\n",
    "\n",
    "`Polygon` needs at least three coordinate-tuples (three points are reguired to form a surface):"
   ]
  },
  {
   "cell_type": "code",
   "execution_count": null,
   "id": "91be3eec",
   "metadata": {},
   "outputs": [],
   "source": [
    "# Create a Polygon from the coordinates\n",
    "poly = Polygon([(2.2, 4.2), (7.2, -25.1), (9.26, -2.456)])"
   ]
  },
  {
   "cell_type": "code",
   "execution_count": null,
   "id": "83334aed-15ea-4797-b42c-06b0db33f6e7",
   "metadata": {},
   "outputs": [],
   "source": [
    "poly"
   ]
  },
  {
   "cell_type": "code",
   "execution_count": null,
   "id": "ee351038",
   "metadata": {},
   "outputs": [],
   "source": [
    "print(poly)"
   ]
  },
  {
   "cell_type": "code",
   "execution_count": null,
   "id": "9180f9d5",
   "metadata": {},
   "outputs": [],
   "source": [
    "poly.area"
   ]
  },
  {
   "cell_type": "code",
   "execution_count": null,
   "id": "efe40e8b",
   "metadata": {},
   "outputs": [],
   "source": [
    "# Data type\n",
    "type(poly)"
   ]
  },
  {
   "cell_type": "code",
   "execution_count": null,
   "id": "9ecfc8b4",
   "metadata": {},
   "outputs": [],
   "source": [
    "# Geometry type\n",
    "poly.geom_type"
   ]
  },
  {
   "cell_type": "code",
   "execution_count": null,
   "id": "561e792b",
   "metadata": {},
   "outputs": [],
   "source": [
    "poly"
   ]
  },
  {
   "cell_type": "markdown",
   "id": "962f7123",
   "metadata": {},
   "source": [
    "We can also use information from the Shapely `Point` objects created earlier, but we cannot use the `Point` objects directly. Instead, we need to get information of the $x,y$ coordinate pairs as a sequence. We can achieve this by using a list comprehension."
   ]
  },
  {
   "cell_type": "code",
   "execution_count": null,
   "id": "c5ebf891",
   "metadata": {},
   "outputs": [],
   "source": [
    "# Create a Polygon based on information from the Shapely points\n",
    "poly2 = Polygon([[p.x, p.y] for p in [point1, point2, point3]])"
   ]
  },
  {
   "cell_type": "code",
   "execution_count": null,
   "id": "8172481d",
   "metadata": {},
   "outputs": [],
   "source": [
    "poly2"
   ]
  },
  {
   "cell_type": "code",
   "execution_count": null,
   "id": "730c7942",
   "metadata": {},
   "outputs": [],
   "source": [
    "poly == poly2"
   ]
  },
  {
   "cell_type": "code",
   "execution_count": null,
   "id": "bc5bac18",
   "metadata": {},
   "outputs": [],
   "source": [
    "# Define the outer border\n",
    "border = [(-180, 90), (-180, -90), (180, -90), (180, 90)]"
   ]
  },
  {
   "cell_type": "code",
   "execution_count": null,
   "id": "48447ae0",
   "metadata": {},
   "outputs": [],
   "source": [
    "# Outer polygon\n",
    "world = Polygon(shell=border)\n",
    "print(world)"
   ]
  },
  {
   "cell_type": "code",
   "execution_count": null,
   "id": "296b735a",
   "metadata": {},
   "outputs": [],
   "source": [
    "world"
   ]
  },
  {
   "cell_type": "markdown",
   "id": "edf74823",
   "metadata": {},
   "source": [
    "### Attributes and functions¶\n",
    "We can again access different attributes directly from the `Polygon` object itself that can be really useful for many analyses, such as `area`, `centroid`, bounding box (`bounds`), `exterior`, and exterior-length (`exterior.length`). \n",
    "\n",
    "Here, we can see a few of the available attributes and how to access them:"
   ]
  },
  {
   "cell_type": "code",
   "execution_count": null,
   "id": "31eb5a7f",
   "metadata": {},
   "outputs": [],
   "source": [
    "# Print the outputs\n",
    "print(f\"Polygon centroid: {world.centroid}\")\n",
    "print(f\"Polygon Area: {world.area}\")\n",
    "print(f\"Polygon Bounding Box: {world.bounds}\")\n",
    "print(f\"Polygon Exterior: {world.exterior}\")\n",
    "print(f\"Polygon Exterior Length: {world.exterior.length}\")"
   ]
  },
  {
   "cell_type": "markdown",
   "id": "6f01e978-db79-4fcf-bf03-c60f436d8c0d",
   "metadata": {},
   "source": [
    "<a id=\"geometrycollections\"></a>\n",
    "## Geometry collections\n",
    "In some occassions it is useful to store multiple geometries (e.g., several points or several polygons) in a single feature. \n",
    "\n",
    "For example, when country is composed of several islands, the polygons share the same attributes on the country-level and it might be reasonable to store that country as geometry collection that contains all the polygons. The attribute table would then contain one row of information with country-level attributes, and the geometry related to those attributes would represent several polygons.\n",
    "\n",
    "In Shapely, collections of `Point`s are implemented by using a `MultiPoint` object, collections of `LineString`s by using a `MultiLineString` object, and collections of `Polygon`s by a `MultiPolygon` object."
   ]
  },
  {
   "cell_type": "code",
   "execution_count": null,
   "id": "af0e7593-b8cc-4fb4-9753-f8683864c591",
   "metadata": {},
   "outputs": [],
   "source": [
    "from shapely.geometry import Point, LineString, Polygon\n",
    "from shapely.geometry import MultiPoint, MultiLineString, MultiPolygon"
   ]
  },
  {
   "cell_type": "code",
   "execution_count": null,
   "id": "1f9f6e62-ff36-4f75-a619-c744774474db",
   "metadata": {},
   "outputs": [],
   "source": [
    "point1, point2, point3 = (2.2, 4.2), (7.2, -25.1), (9.26, -2.456)\n",
    "\n",
    "# Create a MultiPoint object of our points 1,2 and 3\n",
    "multi_point = MultiPoint([point1, point2, point3])\n",
    "\n",
    "# It is also possible to pass coordinate tuples inside\n",
    "multi_point2 = MultiPoint([(2.2, 4.2), (7.2, -25.1), (9.26, -2.456)])\n",
    "\n",
    "# We can also create a MultiLineString with two lines\n",
    "line1 = LineString([point1, point2])\n",
    "line2 = LineString([point2, point3])\n",
    "multi_line = MultiLineString([line1, line2])\n",
    "\n",
    "# Print object definitions\n",
    "print(multi_point)\n",
    "print(multi_line)"
   ]
  },
  {
   "cell_type": "code",
   "execution_count": null,
   "id": "60f2181d-85ad-4a7b-a5fd-6585fc5d3719",
   "metadata": {},
   "outputs": [],
   "source": [
    "multi_point"
   ]
  },
  {
   "cell_type": "code",
   "execution_count": null,
   "id": "8c9f0302-b86c-41a3-8159-7a961a76dc04",
   "metadata": {},
   "outputs": [],
   "source": [
    "multi_line"
   ]
  },
  {
   "cell_type": "markdown",
   "id": "2a4be3fc-a767-4697-a736-7dbd6c777bc1",
   "metadata": {},
   "source": [
    "`MultiPolygon`s are constructed in a similar manner. Let’s create a bounding box for “the world” by combining two separate polygons that represent the western and eastern hemispheres."
   ]
  },
  {
   "cell_type": "code",
   "execution_count": null,
   "id": "68fe6e72-f5a9-4829-936b-c814209d64a1",
   "metadata": {},
   "outputs": [],
   "source": [
    "# Let's create the exterior of the western part of the world\n",
    "west_exterior = [(-180, 90), (-180, -90), (0, -90), (0, 90)]\n",
    "\n",
    "# Let's create a hole --> remember there can be multiple holes, thus we need to have a list of hole(s). \n",
    "# Here we have just one.\n",
    "west_hole = [[(-170, 80), (-170, -80), (-10, -80), (-10, 80)]]\n",
    "\n",
    "# Create the Polygon\n",
    "west_poly = Polygon(shell=west_exterior, holes=west_hole)\n",
    "\n",
    "# Print object definition\n",
    "print(west_poly)"
   ]
  },
  {
   "cell_type": "code",
   "execution_count": null,
   "id": "671aa292-b389-4626-958d-43c26617d680",
   "metadata": {},
   "outputs": [],
   "source": [
    "west_poly"
   ]
  },
  {
   "cell_type": "markdown",
   "id": "d4c3a898-2220-448e-91c8-f0eb64892774",
   "metadata": {},
   "source": [
    "Shapely also has a tool for creating a bounding box based on minimum and maximum $x$ and $y$ coordinates. Instead of using the `Polygon` constructor, let’s use the box constructor for creating the polygon:"
   ]
  },
  {
   "cell_type": "code",
   "execution_count": null,
   "id": "acf96784-8003-4601-942d-467a458eacd4",
   "metadata": {},
   "outputs": [],
   "source": [
    "from shapely.geometry import box"
   ]
  },
  {
   "cell_type": "code",
   "execution_count": null,
   "id": "3e5f3efd-3255-4183-a80f-a55137d14c5d",
   "metadata": {},
   "outputs": [],
   "source": [
    "# Specify the bbox extent (lower-left corner coordinates and upper-right corner coordinates)\n",
    "min_x, min_y = 0, -90\n",
    "max_x, max_y = 180, 90\n",
    "\n",
    "# Create the polygon using Shapely\n",
    "east_poly = box(minx=min_x, miny=min_y, maxx=max_x, maxy=max_y)\n",
    "\n",
    "# Print object definition\n",
    "print(east_poly)"
   ]
  },
  {
   "cell_type": "code",
   "execution_count": null,
   "id": "d655d030-dbac-49d6-b9e9-2edc733c1823",
   "metadata": {},
   "outputs": [],
   "source": [
    "east_poly"
   ]
  },
  {
   "cell_type": "markdown",
   "id": "c77f4aeb-05cb-4da3-a294-41f7c58108a7",
   "metadata": {},
   "source": [
    "Finally, we can combine the two polygons into a `MultiPolygon`:"
   ]
  },
  {
   "cell_type": "code",
   "execution_count": null,
   "id": "7f2cd913-d950-46e4-8346-aa8b156131db",
   "metadata": {},
   "outputs": [],
   "source": [
    "# Let's create our MultiPolygon. We can pass multiple Polygon -objects into our MultiPolygon as a list\n",
    "multi_poly = MultiPolygon([west_poly, east_poly])\n",
    "\n",
    "# Print object definition\n",
    "print(multi_poly)"
   ]
  },
  {
   "cell_type": "code",
   "execution_count": null,
   "id": "72f718b3-1e21-4b63-959b-0d2642056612",
   "metadata": {},
   "outputs": [],
   "source": [
    "multi_poly"
   ]
  },
  {
   "cell_type": "markdown",
   "id": "54e3d8db-6ce6-49a6-9cca-71d732ff1498",
   "metadata": {},
   "source": [
    "### Convex hull and envelope\n",
    "Convex hull refers to the smalles possible polygon that contains all objects in a collection. Alongside with the minimum bounding box, convex hull is a useful shape when aiming to describe the extent of your data."
   ]
  },
  {
   "cell_type": "code",
   "execution_count": null,
   "id": "360187c0-306b-42d0-9739-065b53716e39",
   "metadata": {},
   "outputs": [],
   "source": [
    "# Check input geometry\n",
    "multi_point"
   ]
  },
  {
   "cell_type": "code",
   "execution_count": null,
   "id": "7f7cac37-2278-40f6-9744-998e7603e517",
   "metadata": {},
   "outputs": [],
   "source": [
    "# Convex Hull (smallest polygon around the geometry collection)\n",
    "multi_point.convex_hull"
   ]
  },
  {
   "cell_type": "code",
   "execution_count": null,
   "id": "4462acf6-e48c-4238-bd4f-81023635d732",
   "metadata": {},
   "outputs": [],
   "source": [
    "# Envelope (smalles rectangular polygon around the geometry collection): \n",
    "multi_point.envelope"
   ]
  },
  {
   "cell_type": "markdown",
   "id": "3c32e45f",
   "metadata": {},
   "source": [
    "<a id=\"geopandas\"></a>\n",
    "# Geopandas\n",
    "\n",
    "<img width=200, src=\"https://geopandas.org/en/stable/_images/geopandas_logo.png\"/>\n",
    "\n",
    "[**Geopandas**](http://geopandas.org/) makes it possible to work with geospatial data in Python in a relatively easy way. Geopandas combines the capabilities of the data analysis library pandas with other packages like Shapely and fiona for managing spatial data.\n",
    "\n",
    "The main data structures in geopandas are `GeoSeries` and `GeoDataFrame` which extend the capabilities of `Series` and `DataFrame`s from pandas. This means that we can use all our pandas skills also when working with geopandas!\n",
    "\n",
    "The main difference between `GeoDataFrame`s and pandas `DataFrame`s is that a `GeoDataFrame` should contain one column for geometries. By default, the name of this column is `'geometry'`. The geometry column is a `GeoSeries` which contains the geometries (`Point`, `LineString`, `Polygon`) as shapely objects.\n",
    "\n",
    "![](https://autogis-site.readthedocs.io/en/latest/_images/geodataframe.png)"
   ]
  },
  {
   "cell_type": "code",
   "execution_count": null,
   "id": "facbd07a",
   "metadata": {},
   "outputs": [],
   "source": [
    "import geopandas as gpd"
   ]
  },
  {
   "cell_type": "markdown",
   "id": "6753f9df",
   "metadata": {},
   "source": [
    "<a id=\"readingshapefile\"></a>\n",
    "## Reading a Shapefile"
   ]
  },
  {
   "cell_type": "code",
   "execution_count": null,
   "id": "fbb1a87d",
   "metadata": {},
   "outputs": [],
   "source": [
    "fp = \"data/L2_data/NLS/2018/L4/L41/L4132R.shp/m_L4132R_p.shp\"\n",
    "# Read file using gpd.read_file()\n",
    "data = gpd.read_file(fp)\n",
    "data.head()"
   ]
  },
  {
   "cell_type": "code",
   "execution_count": null,
   "id": "ab5b56a2",
   "metadata": {},
   "outputs": [],
   "source": [
    "type(data)"
   ]
  },
  {
   "cell_type": "code",
   "execution_count": null,
   "id": "c9ea321e",
   "metadata": {},
   "outputs": [],
   "source": [
    "data.columns.values"
   ]
  },
  {
   "cell_type": "markdown",
   "id": "baccc40e",
   "metadata": {},
   "source": [
    "As you might guess, the column names are in Finnish. Let’s select only the useful columns and rename them into English:"
   ]
  },
  {
   "cell_type": "code",
   "execution_count": null,
   "id": "26cc1ef2",
   "metadata": {},
   "outputs": [],
   "source": [
    "data = data[['RYHMA', 'LUOKKA',  'geometry']]"
   ]
  },
  {
   "cell_type": "code",
   "execution_count": null,
   "id": "c296034d",
   "metadata": {},
   "outputs": [],
   "source": [
    "colnames = {'RYHMA':'GROUP', 'LUOKKA':'CLASS'}"
   ]
  },
  {
   "cell_type": "code",
   "execution_count": null,
   "id": "a9e9c07b",
   "metadata": {},
   "outputs": [],
   "source": [
    "data.rename(columns=colnames, inplace=True)"
   ]
  },
  {
   "cell_type": "code",
   "execution_count": null,
   "id": "ecfb5f4e",
   "metadata": {},
   "outputs": [],
   "source": [
    "data.head()"
   ]
  },
  {
   "cell_type": "code",
   "execution_count": null,
   "id": "cbded8d3-9a24-4734-9917-51735f55d16e",
   "metadata": {},
   "outputs": [],
   "source": [
    "data.plot()"
   ]
  },
  {
   "cell_type": "markdown",
   "id": "2c3fa0e2",
   "metadata": {},
   "source": [
    "Here we see that our data variable is a `GeoDataFrame`. `GeoDataFrame` extends the functionalities of `pandas.DataFrame` in a way that it is possible to handle spatial data using similar approaches and datastructures as in pandas (hence the name geopandas)."
   ]
  },
  {
   "cell_type": "markdown",
   "id": "11cd334d",
   "metadata": {},
   "source": [
    "It is always a good idea to explore your data also on a map. Creating a simple map from a GeoDataFrame is really easy: you can use `.plot()` function from geopandas that creates a map based on the geometries of the data. Geopandas actually uses matplotlib for plotting."
   ]
  },
  {
   "cell_type": "code",
   "execution_count": null,
   "id": "2ea6eb66-3f4b-44cc-8397-6a033dac0f98",
   "metadata": {},
   "outputs": [],
   "source": [
    "import matplotlib.pyplot as plt"
   ]
  },
  {
   "cell_type": "code",
   "execution_count": null,
   "id": "4c25475f",
   "metadata": {},
   "outputs": [],
   "source": [
    "fig = plt.figure(figsize=(6, 6))\n",
    "ax = plt.axes()\n",
    "data.plot(ax=ax)"
   ]
  },
  {
   "cell_type": "markdown",
   "id": "80b38ddb",
   "metadata": {},
   "source": [
    "<a id=\"geometriesgeopandas\"></a>\n",
    "## Geometries in Geopandas\n",
    "Geopandas takes advantage of Shapely’s geometric objects. Geometries are stored in a column called geometry that is a default column name for storing geometric information in geopandas."
   ]
  },
  {
   "cell_type": "code",
   "execution_count": null,
   "id": "f79b7d56",
   "metadata": {},
   "outputs": [],
   "source": [
    "data['geometry'].head()"
   ]
  },
  {
   "cell_type": "markdown",
   "id": "7f874b93",
   "metadata": {},
   "source": [
    "The geometry column contains familiar looking values, namely Shapely `Polygon` objects. Since the spatial data is stored as Shapely objects, it is possible to use Shapely methods when dealing with geometries in geopandas."
   ]
  },
  {
   "cell_type": "code",
   "execution_count": null,
   "id": "2a0c38e1",
   "metadata": {},
   "outputs": [],
   "source": [
    "# Access the geometry on the first row of data\n",
    "data.at[0, \"geometry\"]"
   ]
  },
  {
   "cell_type": "code",
   "execution_count": null,
   "id": "b73168d6",
   "metadata": {},
   "outputs": [],
   "source": [
    "# Print information about the area \n",
    "print(\"Area:\", round(data.at[0, \"geometry\"].area, 0), \"square meters\")"
   ]
  },
  {
   "cell_type": "markdown",
   "id": "c9126a16",
   "metadata": {},
   "source": [
    "Iterate over the GeoDataFrame rows using the `iterrows()` function. For each row, print the area of the polygon:"
   ]
  },
  {
   "cell_type": "code",
   "execution_count": null,
   "id": "09b86766",
   "metadata": {
    "scrolled": true
   },
   "outputs": [],
   "source": [
    "for i, row in data.iterrows():\n",
    "    area = row['geometry'].area\n",
    "    print(\"Area:\", round(area, 0), \"square meters\")"
   ]
  },
  {
   "cell_type": "markdown",
   "id": "f7452c1a",
   "metadata": {},
   "source": [
    "As you see from here, all pandas methods, such as the `iterrows()` function, are directly available in Geopandas without the need to call pandas separately because Geopandas is an extension for pandas.\n",
    "\n",
    "In practice, it is not necessary to use the `iterrows()` approach to calculate the area for all features. Geodataframes and geoseries have an attribute area which we can use for accessing the area for each feature at once:"
   ]
  },
  {
   "cell_type": "code",
   "execution_count": null,
   "id": "b33f8586",
   "metadata": {},
   "outputs": [],
   "source": [
    "data.area"
   ]
  },
  {
   "cell_type": "markdown",
   "id": "25c9be7c",
   "metadata": {},
   "source": [
    "Let’s next create a new column into our GeoDataFrame where we calculate and store the areas of individual polygons:"
   ]
  },
  {
   "cell_type": "code",
   "execution_count": null,
   "id": "46462b65",
   "metadata": {},
   "outputs": [],
   "source": [
    "# Create a new column called 'area' \n",
    "data['area'] = data.area"
   ]
  },
  {
   "cell_type": "code",
   "execution_count": null,
   "id": "e33bdefe",
   "metadata": {},
   "outputs": [],
   "source": [
    "data.head()"
   ]
  },
  {
   "cell_type": "markdown",
   "id": "cc323f89",
   "metadata": {},
   "source": [
    "<a id=\"writingdata\"></a>\n",
    "## Writing data into a shapefile\n",
    "It is possible to export `GeoDataFrame`s into various data formats using the `to_file()` method. In our case, we want to export subsets of the data into Shapefiles (one file for each feature class).\n",
    "\n",
    "Let’s first select one class (class number 36200, “Lake water”) from the data as a new `GeoDataFrame`:"
   ]
  },
  {
   "cell_type": "code",
   "execution_count": null,
   "id": "dd3782ca-c352-4fcd-b87e-582841a588ec",
   "metadata": {},
   "outputs": [],
   "source": [
    "data.head()"
   ]
  },
  {
   "cell_type": "code",
   "execution_count": null,
   "id": "73fd264f",
   "metadata": {},
   "outputs": [],
   "source": [
    "# Select a class\n",
    "selection = data.loc[data[\"CLASS\"]==36200]"
   ]
  },
  {
   "cell_type": "code",
   "execution_count": null,
   "id": "f0d84d35",
   "metadata": {},
   "outputs": [],
   "source": [
    "fig = plt.figure(figsize=(6, 6))\n",
    "ax = plt.axes()\n",
    "selection.plot(ax=ax)"
   ]
  },
  {
   "cell_type": "markdown",
   "id": "f8887167",
   "metadata": {},
   "source": [
    "write this layer into a new Shapefile using the `gpd.to_file()` function:"
   ]
  },
  {
   "cell_type": "code",
   "execution_count": null,
   "id": "4f2817d5",
   "metadata": {},
   "outputs": [],
   "source": [
    "# Create a output path for the data\n",
    "output_fp = \"Class_36200.shp\"\n",
    "# Write those rows into a new file (the default output file format is Shapefile)\n",
    "selection.to_file(output_fp)"
   ]
  },
  {
   "cell_type": "code",
   "execution_count": null,
   "id": "e7f93267",
   "metadata": {},
   "outputs": [],
   "source": [
    "temp = gpd.read_file(output_fp)\n",
    "temp.head()"
   ]
  },
  {
   "cell_type": "code",
   "execution_count": null,
   "id": "256cc0fd",
   "metadata": {},
   "outputs": [],
   "source": [
    "data.to_file('Class_36200.geojson', driver='GeoJSON')"
   ]
  },
  {
   "cell_type": "code",
   "execution_count": null,
   "id": "6bdd546b",
   "metadata": {},
   "outputs": [],
   "source": [
    "temp = gpd.read_file('Class_36200.geojson')\n",
    "temp.head()"
   ]
  },
  {
   "cell_type": "code",
   "execution_count": null,
   "id": "28f9de73",
   "metadata": {},
   "outputs": [],
   "source": [
    "import geopandas as gpd\n",
    "from fiona.drvsupport import supported_drivers\n",
    "\n",
    "# Check supported format drivers\n",
    "supported_drivers"
   ]
  },
  {
   "cell_type": "markdown",
   "id": "853c2f04-cced-430d-bf92-43da6edeecf3",
   "metadata": {},
   "source": [
    "<a id='sjoins'></a>\n",
    "## Spatial joins\n",
    "A **spatial join** uses binary predicates such as `intersects` and `crosses` to combine two `GeoDataFrame`s based on the spatial relationship between their geometries.\n",
    "\n",
    "A common use case might be a spatial join between a `Point` and a `Polygon` where you want to retain the point geometries and grab the attributes of the intersecting polygons.\n",
    "\n",
    "![](https://web.natur.cuni.cz/~langhamr/lectures/vtfg1/mapinfo_1/about_gis/Image23.gif)"
   ]
  },
  {
   "cell_type": "markdown",
   "id": "0165e16d-2b23-4be5-9a90-10321eb16858",
   "metadata": {},
   "source": [
    "### Types of spatial joins\n",
    "We currently support the following methods of spatial joins. We refer to the `left_df` and `right_df` which are the correspond to the two dataframes passed in as arguments.\n",
    "\n",
    "#### Left outer join\n",
    "In a LEFT OUTER JOIN (`how='left'`), we keep all rows from the left and duplicate them if necessary to represent multiple hits between the two dataframes. We retain attributes of the right if they intersect and lose right rows that do not intersect. A left outer join implies that we are interested in retaining the geometries of the left.\n",
    "\n",
    "#### Right outer join\n",
    "In a RIGHT OUTER JOIN (`how='right'`), we keep all rows from the right and duplicate them if necessary to represent multiple hits between the two dataframes. We retain attributes of the left if they intersect and lose left rows that don’t intersect. A right outer join implies that we are interested in retaining the geometries of the right.\n",
    "\n",
    "#### Inner join\n",
    "In an INNER JOIN (`how='inner'`), we keep rows from the right and left only where their binary predicate is `True`. We duplicate them if necessary to represent multiple hits between the two dataframes. We retain attributes of the right and left only if they intersect and lose all rows that do not. An inner join implies that we are interested in retaining the geometries of the left."
   ]
  },
  {
   "cell_type": "code",
   "execution_count": null,
   "id": "2270ff96-3cd1-4644-bca7-7a00c3981803",
   "metadata": {},
   "outputs": [],
   "source": [
    "%matplotlib inline\n",
    "from shapely.geometry import Point\n",
    "from geopandas import datasets, GeoDataFrame, read_file"
   ]
  },
  {
   "cell_type": "code",
   "execution_count": null,
   "id": "0c090fa1-310b-4620-aa9c-b599163f8444",
   "metadata": {},
   "outputs": [],
   "source": [
    "# NYC Boros\n",
    "zippath = datasets.get_path('nybb')\n",
    "polydf = read_file(zippath)"
   ]
  },
  {
   "cell_type": "code",
   "execution_count": null,
   "id": "89d168a1-aa35-417d-a12e-041a9879f9ab",
   "metadata": {},
   "outputs": [],
   "source": [
    "polydf"
   ]
  },
  {
   "cell_type": "code",
   "execution_count": null,
   "id": "848de013-339a-4ced-aaf1-33e2b42242b9",
   "metadata": {},
   "outputs": [],
   "source": [
    "polydf.plot()"
   ]
  },
  {
   "cell_type": "code",
   "execution_count": null,
   "id": "ccd4da38-97b2-4534-b503-29f9109f8130",
   "metadata": {},
   "outputs": [],
   "source": [
    "polydf.total_bounds"
   ]
  },
  {
   "cell_type": "code",
   "execution_count": null,
   "id": "9ac59da9-8e25-4a04-b497-92e0976ccb3d",
   "metadata": {},
   "outputs": [],
   "source": [
    "# Generate some points\n",
    "b = [int(x) for x in polydf.total_bounds]\n",
    "N = 8\n",
    "pointdf = GeoDataFrame([\n",
    "    {'geometry': Point(x, y), 'value1': x + y, 'value2': x - y}\n",
    "    for x, y in zip(range(b[0], b[2], int((b[2] - b[0]) / N)),\n",
    "                    range(b[1], b[3], int((b[3] - b[1]) / N)))])\n",
    "\n",
    "# Make sure they're using the same projection reference\n",
    "pointdf.crs = polydf.crs"
   ]
  },
  {
   "cell_type": "code",
   "execution_count": null,
   "id": "fcb55ab1-e83f-4374-a639-cf3265baaf0e",
   "metadata": {},
   "outputs": [],
   "source": [
    "pointdf"
   ]
  },
  {
   "cell_type": "code",
   "execution_count": null,
   "id": "1c06456a-6b98-44f3-9ab7-187137f633ab",
   "metadata": {},
   "outputs": [],
   "source": [
    "ax = polydf.plot()\n",
    "ax = pointdf.plot(ax=ax, color='r')"
   ]
  },
  {
   "cell_type": "code",
   "execution_count": null,
   "id": "026723cf-8969-470e-8311-d0b624752622",
   "metadata": {},
   "outputs": [],
   "source": [
    "join_left_df = pointdf.sjoin(polydf, how=\"left\")\n",
    "join_left_df\n",
    "# Note the NaNs where the point did not intersect a boro"
   ]
  },
  {
   "cell_type": "code",
   "execution_count": null,
   "id": "5627c3a1-bf23-4db1-a405-deeab5b60357",
   "metadata": {},
   "outputs": [],
   "source": [
    "join_left_df.plot()"
   ]
  },
  {
   "cell_type": "code",
   "execution_count": null,
   "id": "a387a6d6-4240-4336-8065-30e68ccbb643",
   "metadata": {},
   "outputs": [],
   "source": [
    "join_right_df = pointdf.sjoin(polydf, how=\"right\")\n",
    "join_right_df.plot()\n",
    "# Note Staten Island is repeated"
   ]
  },
  {
   "cell_type": "code",
   "execution_count": null,
   "id": "46302f1b-40e7-4310-94d5-634adf0d1c98",
   "metadata": {},
   "outputs": [],
   "source": [
    "join_inner_df = pointdf.sjoin(polydf, how=\"inner\")\n",
    "join_inner_df.plot()\n",
    "# Note the lack of NaNs; dropped anything that didn't intersect"
   ]
  },
  {
   "cell_type": "markdown",
   "id": "99e7ed20-28f6-4abb-a2ec-8da7fc3fc1b0",
   "metadata": {},
   "source": [
    "We’re not limited to using the `intersection` binary predicate. Any of the Shapely geometry methods that return a Boolean can be used by specifying the op kwarg."
   ]
  },
  {
   "cell_type": "code",
   "execution_count": null,
   "id": "5782b7aa-01b4-4142-a94e-ab5fbad28527",
   "metadata": {},
   "outputs": [],
   "source": [
    "pointdf.sjoin(polydf, how=\"left\", predicate=\"within\")"
   ]
  },
  {
   "cell_type": "markdown",
   "id": "2742b96f-e468-4a7c-941c-c60731d4483a",
   "metadata": {},
   "source": [
    "We can also conduct a nearest neighbour join with `sjoin_nearest`."
   ]
  },
  {
   "cell_type": "code",
   "execution_count": null,
   "id": "653d370e-09a2-427a-846c-c3ad945d2b00",
   "metadata": {},
   "outputs": [],
   "source": [
    "pointdf.sjoin_nearest(polydf, how=\"left\", distance_col=\"Distances\")\n",
    "# Note the optional Distances column with computed distances between each point\n",
    "# and the nearest polydf geometry."
   ]
  },
  {
   "cell_type": "markdown",
   "id": "7f352fd4-549f-4c15-b49b-9f7deecbec28",
   "metadata": {},
   "source": [
    "<a id=\"practicegeopandas\"></a>\n",
    "## Practice"
   ]
  },
  {
   "cell_type": "markdown",
   "id": "b6149899",
   "metadata": {},
   "source": [
    "### Points to map\n",
    "The aim is to plot a map based on a set of longitude and latitude coordinates that are stored in a csv file. The coordinates are in WGS84 decimal degrees (`EPSG:4326`), and the data is stored in `some_posts.csv` comma separated file in the folder data.\n",
    "\n",
    "1. Import the needed modules\n",
    "    - Read the data from `some_posts.csv` into a pandas `DataFrame` called `data`\n",
    "    - Create an empty column called `geometry` where you will store shapely `Point` objects\n",
    "    - Insert `Point` objects into the column `geometry` based on the coordinate columns"
   ]
  },
  {
   "cell_type": "code",
   "execution_count": null,
   "id": "cdf55154",
   "metadata": {},
   "outputs": [],
   "source": [
    "import pandas as pd\n",
    "import geopandas as gpd"
   ]
  },
  {
   "cell_type": "code",
   "execution_count": null,
   "id": "ea67c335",
   "metadata": {},
   "outputs": [],
   "source": [
    "df = pd.read_csv('data/some_posts.csv')\n",
    "df.head()"
   ]
  },
  {
   "cell_type": "code",
   "execution_count": null,
   "id": "8ec345be",
   "metadata": {},
   "outputs": [],
   "source": [
    "df['geometry'] = None"
   ]
  },
  {
   "cell_type": "code",
   "execution_count": null,
   "id": "1dff75df",
   "metadata": {},
   "outputs": [],
   "source": [
    "df.head()"
   ]
  },
  {
   "cell_type": "code",
   "execution_count": null,
   "id": "1a9abede-abcb-4566-a2d1-50a66ac9d2b1",
   "metadata": {},
   "outputs": [],
   "source": [
    "type(df)"
   ]
  },
  {
   "cell_type": "code",
   "execution_count": null,
   "id": "fe9c3dd9",
   "metadata": {},
   "outputs": [],
   "source": [
    "points = []\n",
    "for i, row in df.iterrows():\n",
    "    points.append(Point(row['lon'], row['lat']))\n",
    "df['geometry'] = gpd.GeoSeries(points)"
   ]
  },
  {
   "cell_type": "code",
   "execution_count": null,
   "id": "81c0c456",
   "metadata": {},
   "outputs": [],
   "source": [
    "df.head()"
   ]
  },
  {
   "cell_type": "code",
   "execution_count": null,
   "id": "0e93c376-e2e9-4317-956c-c700fc028bd7",
   "metadata": {},
   "outputs": [],
   "source": [
    "type(df)"
   ]
  },
  {
   "cell_type": "code",
   "execution_count": null,
   "id": "8e7040a3-978d-488d-8bdf-730cf89fb738",
   "metadata": {},
   "outputs": [],
   "source": [
    "gpd.GeoDataFrame(df).plot()"
   ]
  },
  {
   "cell_type": "markdown",
   "id": "139242fd",
   "metadata": {},
   "source": [
    "Next:\n",
    "- Convert that `DataFrame` into a `GeoDataFrame` using the `geopandas.GeoDataFrame` constructor\n",
    "- Update the CRS for coordinate system as WGS84 (i.e. epsg code: 4326)\n",
    "- Save the data into a Shapefile called `Kruger_posts.shp`"
   ]
  },
  {
   "cell_type": "code",
   "execution_count": null,
   "id": "8d82204e",
   "metadata": {},
   "outputs": [],
   "source": [
    "data = gpd.GeoDataFrame(df)\n",
    "data.crs = 'epsg: 4326'\n",
    "print(type(data))"
   ]
  },
  {
   "cell_type": "code",
   "execution_count": null,
   "id": "92c73d74",
   "metadata": {},
   "outputs": [],
   "source": [
    "data.to_file('Kruger_posts.shp')"
   ]
  },
  {
   "cell_type": "markdown",
   "id": "709745b4",
   "metadata": {},
   "source": [
    "Finally:\n",
    "- Create a simple map of the points using the `plot()` function."
   ]
  },
  {
   "cell_type": "code",
   "execution_count": null,
   "id": "d638a04f",
   "metadata": {},
   "outputs": [],
   "source": [
    "fig = plt.figure(figsize=(6, 6))\n",
    "ax = plt.axes()\n",
    "data.plot(ax=ax)"
   ]
  },
  {
   "cell_type": "markdown",
   "id": "399df172-82b3-4516-8e5f-5c8977f82073",
   "metadata": {},
   "source": [
    "### Spatial join"
   ]
  },
  {
   "cell_type": "code",
   "execution_count": null,
   "id": "2f8a0fcc-db52-4fd5-b70f-0429eb83582a",
   "metadata": {},
   "outputs": [],
   "source": [
    "import pandas as pd\n",
    "import geopandas as gpd"
   ]
  },
  {
   "cell_type": "code",
   "execution_count": null,
   "id": "5af6e94e-c1f8-44e5-b54b-1eea51b850ea",
   "metadata": {},
   "outputs": [],
   "source": [
    "# 1-  Listing points\n",
    "listings = pd.read_csv(\"data/listings.csv\")\n",
    "listings.head()"
   ]
  },
  {
   "cell_type": "code",
   "execution_count": null,
   "id": "8d91cb21-7e40-4dc7-9f9c-b97abc3ec761",
   "metadata": {},
   "outputs": [],
   "source": [
    "listings.columns"
   ]
  },
  {
   "cell_type": "code",
   "execution_count": null,
   "id": "194c5395-890a-4c8f-a73a-157f875f9e6c",
   "metadata": {},
   "outputs": [],
   "source": [
    "type(listings)"
   ]
  },
  {
   "cell_type": "code",
   "execution_count": null,
   "id": "2360c5a9-1f8d-4aa8-86e9-0c8d558d1700",
   "metadata": {},
   "outputs": [],
   "source": [
    "# 2 - convert to Geopandas Geodataframe\n",
    "gdf_listings = gpd.GeoDataFrame(listings,  geometry=gpd.points_from_xy(listings.longitude, listings.latitude), crs='epsg: 4326')\n",
    "gdf_listings.drop(['neighbourhood', 'neighbourhood_group'], axis=1, inplace=True)\n",
    "gdf_listings.head()"
   ]
  },
  {
   "cell_type": "code",
   "execution_count": null,
   "id": "0f133036-7b0e-4ce7-9f8f-23478969f874",
   "metadata": {},
   "outputs": [],
   "source": [
    "type(gdf_listings), type(listings)"
   ]
  },
  {
   "cell_type": "code",
   "execution_count": null,
   "id": "fb9a06bd-c9ff-4348-a2a6-9cc8852e37c9",
   "metadata": {},
   "outputs": [],
   "source": [
    "# 3 - Neighbourhoods\n",
    "geojson_file = \"data/neighbourhoods.geojson\"\n",
    "neighborhoods = gpd.read_file(geojson_file)"
   ]
  },
  {
   "cell_type": "code",
   "execution_count": null,
   "id": "a465ff90-0021-4b83-979a-aa6c72c876b1",
   "metadata": {},
   "outputs": [],
   "source": [
    "neighborhoods.head()"
   ]
  },
  {
   "cell_type": "code",
   "execution_count": null,
   "id": "3032b860-0546-4080-8426-e29b37dfb31e",
   "metadata": {},
   "outputs": [],
   "source": [
    "neighborhoods.plot()"
   ]
  },
  {
   "cell_type": "code",
   "execution_count": null,
   "id": "d07c0d19-a5a8-40f4-a2b7-55127ed19a58",
   "metadata": {},
   "outputs": [],
   "source": [
    "sjoined_listings = gpd.sjoin(gdf_listings, neighborhoods, op=\"within\")\n",
    "sjoined_listings.head()"
   ]
  },
  {
   "cell_type": "markdown",
   "id": "49a98106-b5ea-43fc-bf43-e33edd16cc70",
   "metadata": {},
   "source": [
    "<a id=\"folium\"></a>\n",
    "# Folium\n",
    "\n",
    "<img src=\"http://python-visualization.github.io/folium/_images/folium_logo.jpg\"/>\n",
    "\n",
    "[**folium**](http://python-visualization.github.io/folium/) builds on the data wrangling strengths of the Python ecosystem and the mapping strengths of the `leaflet.js` library. Manipulate your data in Python, then visualize it in on a Leaflet map via folium.\n",
    "\n",
    "Concepts\n",
    "folium makes it easy to visualize data that’s been manipulated in Python on an interactive leaflet map. It enables both the binding of data to a map for choropleth visualizations as well as passing rich vector/raster/HTML visualizations as markers on the map.\n",
    "\n",
    "The library has a number of built-in tilesets from OpenStreetMap, Mapbox, and Stamen, and supports custom tilesets with Mapbox or Cloudmade API keys. folium supports both Image, Video, GeoJSON and TopoJSON overlays.\n",
    "\n",
    "See also [this link](https://python-visualization.github.io/folium/quickstart.html#)."
   ]
  },
  {
   "cell_type": "markdown",
   "id": "c6dadd8a-0045-4e4c-877c-6d0aa4c9f762",
   "metadata": {},
   "source": [
    "<a id='creatingmap'></a>\n",
    "## Creating a map"
   ]
  },
  {
   "cell_type": "markdown",
   "id": "eaf650b6-795e-45c9-bd93-6a7c59e54e05",
   "metadata": {},
   "source": [
    "To create a base map, simply pass your starting coordinates to Folium:"
   ]
  },
  {
   "cell_type": "code",
   "execution_count": null,
   "id": "d8486176-8de2-40b3-9f92-3517659421c5",
   "metadata": {},
   "outputs": [],
   "source": [
    "import folium"
   ]
  },
  {
   "cell_type": "code",
   "execution_count": null,
   "id": "96a2beb3-e044-407f-be5a-2f5e51ceb3b0",
   "metadata": {},
   "outputs": [],
   "source": [
    "map_f = folium.Map(location=[45.5236, -122.6750])"
   ]
  },
  {
   "cell_type": "markdown",
   "id": "4fe0861f-c6ff-49b2-9084-775bd49fa42a",
   "metadata": {},
   "source": [
    "To display it in a Jupyter notebook, simply ask for the object representation:"
   ]
  },
  {
   "cell_type": "code",
   "execution_count": null,
   "id": "9303aa26-a0c8-42fe-939a-3b15c6b72b7e",
   "metadata": {},
   "outputs": [],
   "source": [
    "map_f"
   ]
  },
  {
   "cell_type": "markdown",
   "id": "bbb986a6-4bce-4916-89e6-28dd0bf48284",
   "metadata": {},
   "source": [
    "to save it in a file,"
   ]
  },
  {
   "cell_type": "code",
   "execution_count": null,
   "id": "c29248f5-3582-4aa6-a76a-91d28a7be50a",
   "metadata": {},
   "outputs": [],
   "source": [
    "map_f.save(\"index.html\")"
   ]
  },
  {
   "cell_type": "markdown",
   "id": "ffe5d407-d962-492b-b6b5-f7bbbfb1aa46",
   "metadata": {},
   "source": [
    "The default tiles are set to OpenStreetMap, but Stamen Terrain, Stamen Toner, Mapbox Bright, and Mapbox Control Room, and many others tiles are built in."
   ]
  },
  {
   "cell_type": "code",
   "execution_count": null,
   "id": "56f4396c-6698-4529-bd4a-bdd68a088f70",
   "metadata": {},
   "outputs": [],
   "source": [
    "folium.Map(location=[45.5236, -122.6750], tiles='StamenTerrain')"
   ]
  },
  {
   "cell_type": "code",
   "execution_count": null,
   "id": "e11209e5-1e21-4c99-8001-886982953ad7",
   "metadata": {},
   "outputs": [],
   "source": [
    "folium.Map(location=[45.5236, -122.6750], zoom_start=15)"
   ]
  },
  {
   "cell_type": "markdown",
   "id": "b28097b9-1222-47f0-806e-d3a9b98f22d8",
   "metadata": {},
   "source": [
    "<a id='markers'></a>\n",
    "## Markers\n",
    "There are numerous marker types, starting with a simple Leaflet style location marker with a popup and tooltip HTML."
   ]
  },
  {
   "cell_type": "code",
   "execution_count": null,
   "id": "bafe219f-6c7f-45aa-8bb0-e4ca4c88bcbe",
   "metadata": {},
   "outputs": [],
   "source": [
    "map_f = folium.Map(location=[45.372, -121.6972], zoom_start=12, tiles=\"Stamen Terrain\")"
   ]
  },
  {
   "cell_type": "code",
   "execution_count": null,
   "id": "46873da4-f159-422d-99cf-683d6d96da11",
   "metadata": {},
   "outputs": [],
   "source": [
    "tooltip = \"Click me!\"\n",
    "folium.Marker([45.3288, -121.6625], popup=\"<i>Mt. Hood Meadows</i>\", tooltip=tooltip).add_to(map_f)\n",
    "folium.Marker([45.3311, -121.7113], popup=\"<b>Timberline Lodge</b>\", tooltip=tooltip).add_to(map_f)"
   ]
  },
  {
   "cell_type": "code",
   "execution_count": null,
   "id": "2515ce56-c1ad-4b4f-871b-10014d282417",
   "metadata": {},
   "outputs": [],
   "source": [
    "map_f"
   ]
  },
  {
   "cell_type": "markdown",
   "id": "01aac7b8-60d1-4f9b-baf9-4f2357125c96",
   "metadata": {},
   "source": [
    "There is built in support for colors and marker icon types from bootstrap."
   ]
  },
  {
   "cell_type": "code",
   "execution_count": null,
   "id": "1641a4a8-00ec-4f80-84be-659380786e73",
   "metadata": {},
   "outputs": [],
   "source": [
    "map_f = folium.Map(location=[45.372, -121.6972], zoom_start=12, tiles=\"Stamen Terrain\")"
   ]
  },
  {
   "cell_type": "code",
   "execution_count": null,
   "id": "f3a9038e-9908-4429-a1f2-deaf39304218",
   "metadata": {},
   "outputs": [],
   "source": [
    "folium.Marker(\n",
    "    location=[45.3288, -121.6625],\n",
    "    popup=\"Mt. Hood Meadows\",\n",
    "    icon=folium.Icon(icon=\"cloud\"),\n",
    ").add_to(map_f)\n",
    "\n",
    "folium.Marker(\n",
    "    location=[45.3311, -121.7113],\n",
    "    popup=\"Timberline Lodge\",\n",
    "    icon=folium.Icon(color=\"green\"),\n",
    ").add_to(map_f)\n",
    "\n",
    "folium.Marker(\n",
    "    location=[45.3300, -121.6823],\n",
    "    popup=\"Some Other Location\",\n",
    "    icon=folium.Icon(color=\"red\", icon=\"info-sign\"),\n",
    ").add_to(map_f)"
   ]
  },
  {
   "cell_type": "code",
   "execution_count": null,
   "id": "5bc96af5-d474-4532-af59-a8017e82d8cc",
   "metadata": {},
   "outputs": [],
   "source": [
    "map_f"
   ]
  },
  {
   "cell_type": "markdown",
   "id": "b722b101-c543-4481-88e8-65bd106b03f7",
   "metadata": {},
   "source": [
    "Leaflet’s `Circle` and `CircleMarker`, implemented to reflect radii in units of meters and pixels respectively, are available as features."
   ]
  },
  {
   "cell_type": "code",
   "execution_count": null,
   "id": "514f43a9-8423-413f-9292-e5ef3ac355f2",
   "metadata": {},
   "outputs": [],
   "source": [
    "map_f = folium.Map(location=[45.5236, -122.6750], tiles=\"Stamen Toner\", zoom_start=13)"
   ]
  },
  {
   "cell_type": "code",
   "execution_count": null,
   "id": "53c0f7a5-a253-46d7-9cc3-5f517af703a7",
   "metadata": {},
   "outputs": [],
   "source": [
    "folium.Circle(\n",
    "    radius=100,\n",
    "    location=[45.5244, -122.6699],\n",
    "    popup=\"The Waterfront\",\n",
    "    color=\"crimson\",\n",
    "    fill=False,\n",
    ").add_to(map_f)\n",
    "\n",
    "folium.CircleMarker(\n",
    "    location=[45.5215, -122.6261],\n",
    "    radius=50,\n",
    "    popup=\"Laurelhurst Park\",\n",
    "    color=\"#3186cc\",\n",
    "    fill=True,\n",
    "    fill_color=\"#3186cc\",\n",
    ").add_to(map_f)"
   ]
  },
  {
   "cell_type": "code",
   "execution_count": null,
   "id": "0876ed96-9401-4af0-b81c-33faef619682",
   "metadata": {},
   "outputs": [],
   "source": [
    "map_f"
   ]
  },
  {
   "cell_type": "markdown",
   "id": "15ef35a1-30ac-4dbc-ab50-f7f70b5b8d59",
   "metadata": {},
   "source": [
    "a convenience function to enable lat/lon popovers. This can help users to find a location by interactively browsing the map."
   ]
  },
  {
   "cell_type": "code",
   "execution_count": null,
   "id": "b251e1ad-256b-4148-9d9d-f42144a40d30",
   "metadata": {},
   "outputs": [],
   "source": [
    "map_f = folium.Map(location=[46.1991, -122.1889], tiles=\"Stamen Terrain\", zoom_start=13)\n",
    "map_f.add_child(folium.LatLngPopup())\n",
    "map_f"
   ]
  },
  {
   "cell_type": "markdown",
   "id": "87ffe429-804a-4f65-b2c0-6ca950207240",
   "metadata": {},
   "source": [
    "and click-for-marker functionality for on-the-fly placement of markers:"
   ]
  },
  {
   "cell_type": "code",
   "execution_count": null,
   "id": "12eac5bb-d1bc-4755-9b8d-2e39ac4a6b2d",
   "metadata": {},
   "outputs": [],
   "source": [
    "map_f = folium.Map(location=[46.8527, -121.7649], tiles=\"Stamen Terrain\", zoom_start=13)\n",
    "folium.Marker([46.8354, -121.7325], popup=\"Camp Muir\").add_to(map_f)\n",
    "map_f.add_child(folium.ClickForMarker(popup=\"Waypoint\"))\n",
    "map_f"
   ]
  },
  {
   "cell_type": "markdown",
   "id": "1667c782-944f-4861-a0d7-4990db04f164",
   "metadata": {},
   "source": [
    "<a id=\"overlays\"></a>\n",
    "## Overlays\n",
    "\n",
    "Both GeoJSON and TopoJSON layers can be passed to the map as an overlay, and multiple layers can be visualized on the same map:"
   ]
  },
  {
   "cell_type": "code",
   "execution_count": null,
   "id": "cf5df1d1-b739-49de-b026-6f28f4d68c00",
   "metadata": {},
   "outputs": [],
   "source": [
    "url = (\n",
    "    \"https://raw.githubusercontent.com/python-visualization/folium/master/examples/data\"\n",
    ")\n",
    "antarctic_ice_edge = f\"{url}/antarctic_ice_edge.json\"\n",
    "antarctic_ice_shelf_topo = f\"{url}/antarctic_ice_shelf_topo.json\""
   ]
  },
  {
   "cell_type": "code",
   "execution_count": null,
   "id": "2cd67883-0231-4eee-be31-6341c638a938",
   "metadata": {},
   "outputs": [],
   "source": [
    "import json\n",
    "import requests"
   ]
  },
  {
   "cell_type": "code",
   "execution_count": null,
   "id": "90e9728f-43b8-4331-869b-331449319487",
   "metadata": {},
   "outputs": [],
   "source": [
    "map_f = folium.Map(\n",
    "    location=[-59.1759, -11.6016],\n",
    "    tiles=\"cartodbpositron\",\n",
    "    zoom_start=2,\n",
    ")\n",
    "\n",
    "folium.GeoJson(antarctic_ice_edge, name=\"geojson\").add_to(map_f)\n",
    "\n",
    "folium.TopoJson(\n",
    "    json.loads(requests.get(antarctic_ice_shelf_topo).text),\n",
    "    \"objects.antarctic_ice_shelf\",\n",
    "    name=\"topojson\",\n",
    ").add_to(map_f)\n",
    "\n",
    "folium.LayerControl().add_to(map_f)"
   ]
  },
  {
   "cell_type": "code",
   "execution_count": null,
   "id": "eee79165-28c8-4491-8112-2c1eb74aa4a7",
   "metadata": {},
   "outputs": [],
   "source": [
    "map_f"
   ]
  },
  {
   "cell_type": "markdown",
   "id": "61675aae-3315-46ad-a2c6-97976e7ca129",
   "metadata": {},
   "source": [
    "<a id=\"cloroplethmaps\"></a>\n",
    "## Cloropleth maps"
   ]
  },
  {
   "cell_type": "code",
   "execution_count": null,
   "id": "31f0a5aa-6b1a-40e1-9111-272a204d9663",
   "metadata": {},
   "outputs": [],
   "source": [
    "import pandas as pd\n",
    "import folium"
   ]
  },
  {
   "cell_type": "code",
   "execution_count": null,
   "id": "bce1d6dc-654e-42b3-88e6-2b595680ecf1",
   "metadata": {},
   "outputs": [],
   "source": [
    "url = (\n",
    "    \"https://raw.githubusercontent.com/python-visualization/folium/master/examples/data\"\n",
    ")\n",
    "state_geo = f\"{url}/us-states.json\"\n",
    "state_unemployment = f\"{url}/US_Unemployment_Oct2012.csv\"\n",
    "state_data = pd.read_csv(state_unemployment)"
   ]
  },
  {
   "cell_type": "code",
   "execution_count": null,
   "id": "a94dfbf9-d730-471f-9c8d-a30af104ea76",
   "metadata": {},
   "outputs": [],
   "source": [
    "map_f = folium.Map(location=[48, -102], zoom_start=3)\n",
    "\n",
    "folium.Choropleth(\n",
    "    geo_data=state_geo,\n",
    "    name=\"choropleth\",\n",
    "    data=state_data,\n",
    "    columns=[\"State\", \"Unemployment\"],\n",
    "    key_on=\"feature.id\",\n",
    "    fill_color=\"YlGn\",\n",
    "    fill_opacity=0.7,\n",
    "    line_opacity=0.2,\n",
    "    legend_name=\"Unemployment Rate (%)\",\n",
    ").add_to(map_f)\n",
    "\n",
    "folium.LayerControl().add_to(map_f)"
   ]
  },
  {
   "cell_type": "code",
   "execution_count": null,
   "id": "fe99ed1f-e6ec-456a-922a-12a606bcce2e",
   "metadata": {},
   "outputs": [],
   "source": [
    "map_f"
   ]
  },
  {
   "cell_type": "markdown",
   "id": "ec011e0b",
   "metadata": {},
   "source": [
    "<a id=\"scikitmobility\"></a>\n",
    "# scikit-mobility\n",
    "\n",
    "<img width=200 src=\"https://github.com/scikit-mobility/scikit-mobility/blob/master/logo_skmob.png?raw=true\">\n",
    "\n",
    "![GitHub Repo stars](https://img.shields.io/github/stars/scikit-mobility/scikit-mobility?style=social)\n",
    "![GitHub](https://img.shields.io/github/license/scikit-mobility/scikit-mobility)\n",
    "![GitHub release (latest by date)](https://img.shields.io/github/v/release/scikit-mobility/scikit-mobility)\n",
    "\n",
    "[**scikit-mobility**](https://github.com/scikit-mobility/scikit-mobility) is a python library that provides scientists and practitioners with an environment to:\n",
    "\n",
    "1. load and represent mobility data, both at the individual and the collective level, through easy-to-use data structures\n",
    "(`TrajDataFrame` and `FlowDataFrame`); \n",
    "2. visualize trajectories and flows on interactive maps;\n",
    "3. clean and preprocess mobility data using state-of-the-art techniques, such as trajectory clustering, compression, segmentation, and filtering;\n",
    "4. analyze mobility data by using the main measures characterizing mobility patterns both at the individual and at the collective level, such as the computation of travel and characteristic distances, object and location entropies, location frequencies, waiting times, origin-destination matrices, and more;\n",
    "4. run the most popular mechanistic generative models to simulate individual mobility, such as the Exploration and Preferential Return model (EPR) and its variants, and commuting and migratory flows, such as the Gravity\n",
    "Model and the Radiation Model;\n",
    "5. estimate the privacy risk associated with the analysis of a given mobility dataset through the simulation of the reidentification risk associated with a vast repertoire of privacy attacks.\n",
    "\n",
    "- scikit-mobility is publicly available on GitHub at the following link: https://scikit-mobility.github.io/scikit-mobility/. \n",
    "\n",
    "- the documentation describing all the classes and functions of scikit-mobility\n",
    "is available at https://scikit-mobility.github.io/scikit-mobility/.\n",
    "\n",
    "The paper describing scikit-mobility may be found at: https://www.jstatsoft.org/article/view/v103i04"
   ]
  },
  {
   "cell_type": "code",
   "execution_count": null,
   "id": "e0047aad",
   "metadata": {},
   "outputs": [],
   "source": [
    "# import the library\n",
    "import skmob\n",
    "\n",
    "skmob.__version__\n",
    "\n",
    "import pandas as pd\n",
    "import geopandas as gpd"
   ]
  },
  {
   "cell_type": "markdown",
   "id": "6acb6115-aa1c-4e35-ab7b-fee5315da263",
   "metadata": {},
   "source": [
    "<a id=\"datastructures\"></a>\n",
    "## Data Structures\n",
    "\n",
    "scikit-mobility provides two data structures to deal with raw trajectories and flows between places: \n",
    "- `TrajDataFrame`, for spatio-temporal trajectories; \n",
    "- `FlowDataFrame`, for mobility flows.\n",
    "\n",
    "Both the data structures are an extension of the DataFrame implemented in the data analysis library [pandas](https://pandas.pydata.org/). Thus, both `TrajDataFrame`\n",
    "and `FlowDataFrame` inherit all the functionalities provided by the `DataFrame` as well as all the efficient optimizations for reading and writing tabular data (e.g., mobility datasets). \n",
    "\n",
    "The current version of the library is designed to work with the latitude and longitude system (`epsg:4326`). Therefore, the Haversine formula is used by default when the library’s functions compute distances. "
   ]
  },
  {
   "cell_type": "markdown",
   "id": "9b2b00f0",
   "metadata": {},
   "source": [
    "<a id=\"trajdataframe\"></a>\n",
    "### The `TrajDataFrame`\n",
    "\n",
    "Mobility data describe the movements of a set of objects during a period of observation. The objects may represent individuals, private vehicles, boats, and even players on a sports field. \n",
    "\n",
    "Mobility data are generally collected in an automatic way as a by-product of human activity on electronic devices (e.g., mobile phones, GPS devices, social\n",
    "networking platforms, video cameras) and stored as trajectories, a temporally ordered sequence of spatio-temporal points where an object stopped in or went through. \n",
    "\n",
    "A `TrajDataFrame` is an extension of the pandas DataFrame that has specific columns names and data types. Each row in a `TrajDataFrame` describes a trajectory's point and contains the following columns:\n",
    "\n",
    "- `lat` - latitude of the point\n",
    "- `lng` - longitude of the point\n",
    "- `datetime` - date and time of the point\n",
    "\n",
    "For multi-user data sets, there are two optional columns:\n",
    "\n",
    "- `uid` - user's identifier to which the trajectory belongs to\n",
    "- `tid` - identifier for the trajectory\n",
    "\n",
    "\n",
    "#### Creating a `TrajDataFrame`"
   ]
  },
  {
   "cell_type": "markdown",
   "id": "bfa1f8ee",
   "metadata": {},
   "source": [
    "##### From a pandas DataFrame"
   ]
  },
  {
   "cell_type": "code",
   "execution_count": null,
   "id": "7c3c554b-a4df-4779-a70d-b94e18c5d70b",
   "metadata": {},
   "outputs": [],
   "source": [
    "data_list = [[1, 39.984094, 116.319236, '2008-10-23 13:53:05'],\n",
    "             [1, 39.984198, 116.319322, '2008-10-23 13:53:06'],\n",
    "             [1, 39.984224, 116.319402, '2008-10-23 13:53:11'],\n",
    "             [1, 39.984211, 116.319389, '2008-10-23 13:53:16']]"
   ]
  },
  {
   "cell_type": "code",
   "execution_count": null,
   "id": "448d5077",
   "metadata": {},
   "outputs": [],
   "source": [
    "# build a dataframe from the 2D list\n",
    "data_df = pd.DataFrame(data_list, columns=['user', 'lat', 'lng', 'hour'])\n",
    "print(type(data_df)) # type of the structure\n",
    "data_df.head() # head of the DataFrame"
   ]
  },
  {
   "cell_type": "markdown",
   "id": "19cf906c",
   "metadata": {},
   "source": [
    "Note that:\n",
    "\n",
    "- the name of columns in `data_df` do not match the names required\n",
    "- you must specify the names of the mandatory columns using arguments `latitude`, `longitude` and `datetime`"
   ]
  },
  {
   "cell_type": "code",
   "execution_count": null,
   "id": "3fb80fc9",
   "metadata": {},
   "outputs": [],
   "source": [
    "# Create a TrajDataFrame from a DataFrame\n",
    "tdf = skmob.TrajDataFrame(data_df, datetime='hour', user_id='user', latitude='lat', longitude='lng')\n",
    "print(type(tdf))\n",
    "tdf.head()"
   ]
  },
  {
   "cell_type": "markdown",
   "id": "fb01cabb",
   "metadata": {},
   "source": [
    "Columns of a `TrajDataFrame` have specific types"
   ]
  },
  {
   "cell_type": "code",
   "execution_count": null,
   "id": "c5bbe105",
   "metadata": {},
   "outputs": [],
   "source": [
    "# In the DataFrame\n",
    "print(type(data_df))\n",
    "data_df.dtypes"
   ]
  },
  {
   "cell_type": "code",
   "execution_count": null,
   "id": "a7516091",
   "metadata": {
    "scrolled": true
   },
   "outputs": [],
   "source": [
    "print(type(tdf)) # In the TrajDataFrame\n",
    "tdf.dtypes"
   ]
  },
  {
   "cell_type": "code",
   "execution_count": null,
   "id": "2712659b",
   "metadata": {},
   "outputs": [],
   "source": [
    "tdf['lat'].head()"
   ]
  },
  {
   "cell_type": "markdown",
   "id": "4c2bc310",
   "metadata": {},
   "source": [
    "##### From an URL"
   ]
  },
  {
   "cell_type": "code",
   "execution_count": null,
   "id": "64a52b05",
   "metadata": {},
   "outputs": [],
   "source": [
    "# create a TrajDataFrame from a dataset of trajectories \n",
    "url = \"https://github.com/scikit-mobility/tutorials/raw/master/mda_masterbd2020/data/geolife_sample.txt.gz\"\n",
    "tdf = skmob.TrajDataFrame.from_file(url)\n",
    "print(type(tdf))\n",
    "tdf.head()"
   ]
  },
  {
   "cell_type": "markdown",
   "id": "f8d91749",
   "metadata": {},
   "source": [
    "#### Attributes of a TrajDataFrame\n",
    "- `crs`: the coordinate reference system. Default: epsg:4326 (lat/long)\n",
    "- `parameters`: dictionary to add as many as necessary additional properties"
   ]
  },
  {
   "cell_type": "code",
   "execution_count": null,
   "id": "a9b9ad96",
   "metadata": {},
   "outputs": [],
   "source": [
    "## wsg84 datum\n",
    "print(tdf.crs)\n",
    "print(tdf.parameters)"
   ]
  },
  {
   "cell_type": "code",
   "execution_count": null,
   "id": "b0492fa3",
   "metadata": {},
   "outputs": [],
   "source": [
    "# add your own parameter\n",
    "tdf.parameters['analyzed'] = 1\n",
    "tdf.parameters"
   ]
  },
  {
   "cell_type": "code",
   "execution_count": null,
   "id": "afa4db8b",
   "metadata": {
    "scrolled": true
   },
   "outputs": [],
   "source": [
    "### Visualizing a `TrajDataFrame`\n",
    "tdf.plot_trajectory()"
   ]
  },
  {
   "cell_type": "markdown",
   "id": "5c45b88b",
   "metadata": {},
   "source": [
    "<a id=\"tessellation\"></a>\n",
    "### Tessellation\n",
    "In mobility tasks, the geography is often discretized by mapping the coordinates to a *tessellation*, i.e., a covering of the\n",
    "bi-dimensional space using a countable number of geometric shapes (e.g., squares, hexagons), called tiles, with no overlaps\n",
    "and no gaps. \n",
    "\n",
    "For instance, for the analysis or prediction of mobility flows, a spatial tessellation is used to aggregate flows of people moving among locations (the tiles of the tessellation). \n",
    "\n",
    "#### Creating tessellations given a city name and a tile size\n",
    "\n",
    "##### Squared tessellations"
   ]
  },
  {
   "cell_type": "code",
   "execution_count": null,
   "id": "6997ddb3",
   "metadata": {},
   "outputs": [],
   "source": [
    "from skmob.tessellation.tilers import tiler\n",
    "from skmob.utils.plot import plot_gdf"
   ]
  },
  {
   "cell_type": "code",
   "execution_count": null,
   "id": "02e99ddc",
   "metadata": {},
   "outputs": [],
   "source": [
    "tess_squared = tiler.get('squared', base_shape='Florence, Italy', meters=1000)\n",
    "print(\"tiles = %s\" %len(tess_squared))\n",
    "tess_squared.head()"
   ]
  },
  {
   "cell_type": "code",
   "execution_count": null,
   "id": "16f50a36",
   "metadata": {},
   "outputs": [],
   "source": [
    "plot_gdf(tess_squared, zoom=11)"
   ]
  },
  {
   "cell_type": "code",
   "execution_count": null,
   "id": "5600be80",
   "metadata": {},
   "outputs": [],
   "source": [
    "tess_squared = tiler.get('squared', base_shape='Florence, Italy', meters=200)\n",
    "print(\"tiles = %s\" %len(tess_squared))\n",
    "tess_squared.head()"
   ]
  },
  {
   "cell_type": "code",
   "execution_count": null,
   "id": "ac68bf95",
   "metadata": {},
   "outputs": [],
   "source": [
    "plot_gdf(tess_squared, zoom=11)"
   ]
  },
  {
   "cell_type": "markdown",
   "id": "c3d335be",
   "metadata": {},
   "source": [
    "##### Hexagonal tessellation"
   ]
  },
  {
   "cell_type": "code",
   "execution_count": null,
   "id": "04a2a5d6",
   "metadata": {},
   "outputs": [],
   "source": [
    "tess_h3 = tiler.get('h3_tessellation', base_shape='Florence, Italy', meters=1000)\n",
    "print(\"tiles = %s\" %len(tess_h3))\n",
    "tess_h3.head()"
   ]
  },
  {
   "cell_type": "code",
   "execution_count": null,
   "id": "d22b64e2",
   "metadata": {},
   "outputs": [],
   "source": [
    "plot_gdf(tess_h3, zoom=11)"
   ]
  },
  {
   "cell_type": "code",
   "execution_count": null,
   "id": "f0683fd6",
   "metadata": {},
   "outputs": [],
   "source": [
    "tess_h3 = tiler.get('h3_tessellation', base_shape='Florence, Italy', meters=200)\n",
    "print(\"tiles = %s\" %len(tess_h3))\n",
    "tess_h3.head()"
   ]
  },
  {
   "cell_type": "code",
   "execution_count": null,
   "id": "4a5a3c6d",
   "metadata": {},
   "outputs": [],
   "source": [
    "plot_gdf(tess_h3, zoom=11)"
   ]
  },
  {
   "cell_type": "markdown",
   "id": "e6cdf445",
   "metadata": {},
   "source": [
    "##### Voronoi tessellations"
   ]
  },
  {
   "cell_type": "code",
   "execution_count": null,
   "id": "b0a59116",
   "metadata": {},
   "outputs": [],
   "source": [
    "%matplotlib inline\n",
    "import matplotlib.pyplot as plt\n",
    "from scipy.spatial import Voronoi,voronoi_plot_2d\n",
    "from geovoronoi import voronoi_regions_from_coords, points_to_coords\n",
    "import numpy as np\n",
    "import random\n",
    "from shapely.geometry import Polygon, Point\n",
    "import folium"
   ]
  },
  {
   "cell_type": "code",
   "execution_count": null,
   "id": "cc4b84f9",
   "metadata": {},
   "outputs": [],
   "source": [
    "def get_convex_hull(tess):\n",
    "    polygon = tess.at[0, 'geometry']\n",
    "    for tile in tess['geometry']:\n",
    "        polygon = polygon.union(tile)\n",
    "    return polygon.convex_hull"
   ]
  },
  {
   "cell_type": "code",
   "execution_count": null,
   "id": "30d5e2e9",
   "metadata": {},
   "outputs": [],
   "source": [
    "poly_ch = get_convex_hull(tess_squared)\n",
    "print(type(poly_ch))\n",
    "poly_ch"
   ]
  },
  {
   "cell_type": "code",
   "execution_count": null,
   "id": "cd75a299",
   "metadata": {},
   "outputs": [],
   "source": [
    "# Defining the randomization generator\n",
    "def polygon_random_points(poly, num_points):\n",
    "    min_x, min_y, max_x, max_y = poly.bounds\n",
    "    points = []\n",
    "    while len(points) < num_points:\n",
    "        random_point = Point([random.uniform(min_x, max_x), random.uniform(min_y, max_y)])\n",
    "        if (random_point.within(poly)):\n",
    "            points.append([random_point.x, random_point.y])\n",
    "    return np.array(points)"
   ]
  },
  {
   "cell_type": "code",
   "execution_count": null,
   "id": "7738c8b0",
   "metadata": {},
   "outputs": [],
   "source": [
    "# Choose the number of points desired. This example uses 20 points. \n",
    "points = polygon_random_points(poly_ch, 5)\n",
    "points[:10]"
   ]
  },
  {
   "cell_type": "code",
   "execution_count": null,
   "id": "0c6ccb5b",
   "metadata": {},
   "outputs": [],
   "source": [
    "def to_GeoDataFrame(region_polys):\n",
    "    name=[]\n",
    "    for i in range(1, len(region_polys) + 1):\n",
    "        name.append('cell ' + str(i))\n",
    "    gdf = gpd.GeoDataFrame(columns=['name','geometry'], crs={'init': 'epsg:4326'})\n",
    "    gdf['name'] = name\n",
    "    for index, row in gdf.iterrows():\n",
    "        gdf.at[index, 'geometry'] = region_polys[index]\n",
    "    return gdf\n",
    "\n",
    "\n",
    "def get_voronoi_tessellation(poly_ch, points):\n",
    "    vor = Voronoi(points, qhull_options='Qbb Qc Qx')\n",
    "    #fig = voronoi_plot_2d(vor)\n",
    "    #plt.show()\n",
    "    region_polys, region_pts = voronoi_regions_from_coords(points, poly_ch)\n",
    "    tess_voronoi = to_GeoDataFrame(region_polys)\n",
    "    return tess_voronoi"
   ]
  },
  {
   "cell_type": "code",
   "execution_count": null,
   "id": "3cb33672",
   "metadata": {},
   "outputs": [],
   "source": [
    "tess_voronoi = get_voronoi_tessellation(poly_ch, points)\n",
    "tess_voronoi.head()"
   ]
  },
  {
   "cell_type": "code",
   "execution_count": null,
   "id": "9282ce93",
   "metadata": {},
   "outputs": [],
   "source": [
    "plot_gdf(tess_voronoi, zoom=12)"
   ]
  },
  {
   "cell_type": "markdown",
   "id": "96e6e587",
   "metadata": {},
   "source": [
    "<a id=\"flowdataframe\"></a>\n",
    "### The `FlowDataFrame`\n",
    "\n",
    "Origin-destination matrices, aka *flows*, are another common representation of mobility data. While trajectories refer to movements of single objects, flows refer to aggregated movements of objects between a set of locations. An example of flows is the daily commuting flows between the neighbourhoods of a city.\n",
    "\n",
    "In scikit-mobility, an origin-destination matrix is described by a `FlowDataFrame`, an extension of the pandas DataFrame that has specific column names and data types. \n",
    "\n",
    "A row in a `FlowDataFrame` represents a flow of objects between two locations, described by three mandatory columns: \n",
    "- `origin` (any type), \n",
    "- `destination` (any type),\n",
    "- `flow` (type: integer). \n",
    "\n",
    "In mobility tasks, the geography is often discretized by mapping the coordinates to a *tessellation*, i.e., a covering of the\n",
    "bi-dimensional space using a countable number of geometric shapes (e.g., squares, hexagons), called tiles, with no overlaps\n",
    "and no gaps. \n",
    "\n",
    "For instance, for the analysis or prediction of mobility flows, a spatial tessellation is used to aggregate flows of people moving among locations (the tiles of the tessellation). \n",
    "\n",
    "For this reason, each `FlowDataFrame` is associated with a spatial tessellation, a [geopandas](https://geopandas.org/) GeoDataFrame that contains two mandatory columns: \n",
    "- `tile_ID` (any type) indicates the identifier of\n",
    "a location; \n",
    "- `geometry` indicates the geometric shape that describes the location on a territory (e.g., a square, an hexagon, the shape of a neighborhood).\n",
    "\n",
    "Each location identifier in the origin and destination columns of a `FlowDataFrame` must be present in the associated spatial tessellation. Otherwise, the library raises an exception. \n",
    "\n",
    "Similarly, scikit-mobility raises an exception if the type of the `origin` and `destination` columns in the `FlowDataFrame` and the type of\n",
    "the `tile_ID` column in the associated tessellation are different.\n",
    "\n",
    "#### Creating a `FlowDataFrame`\n",
    "\n",
    "Each `FlowDataFrame` goes in companion with a spatial tessellation. So, we must first create/upload a spatial tessellation, which as geopandas GeoDataFrame.\n",
    "\n"
   ]
  },
  {
   "cell_type": "code",
   "execution_count": null,
   "id": "dd1fccc1",
   "metadata": {},
   "outputs": [],
   "source": [
    "url = \"https://raw.githubusercontent.com/scikit-mobility/tutorials/master/mda_masterbd2020/data/NY_counties_2011.geojson\"\n",
    "tessellation = gpd.read_file(url) # load a tessellation\n",
    "tessellation.head()"
   ]
  },
  {
   "cell_type": "code",
   "execution_count": null,
   "id": "c1d2c0ff",
   "metadata": {},
   "outputs": [],
   "source": [
    "plot_gdf(tessellation, zoom=6)"
   ]
  },
  {
   "cell_type": "markdown",
   "id": "ae32ae92",
   "metadata": {},
   "source": [
    "#### Tip\n",
    "Once you have a `GeoDataFrame` or a `GeoSeries` (i.e., just the `geometry` column), you can construct a squared tessellation on it.\n",
    "(There's a bug instead for the h3 tessellation)."
   ]
  },
  {
   "cell_type": "code",
   "execution_count": null,
   "id": "5aa94d47-5def-448a-84e9-2517f048d7cc",
   "metadata": {},
   "outputs": [],
   "source": [
    "ny_tess_squared = tiler.get('squared', base_shape=tessellation, meters=10000)\n",
    "print(\"tiles = %s\" %len(ny_tess_squared))\n",
    "ny_tess_squared.head()"
   ]
  },
  {
   "cell_type": "code",
   "execution_count": null,
   "id": "2a94db85-e0ca-4210-801e-10b31676828b",
   "metadata": {},
   "outputs": [],
   "source": [
    "plot_gdf(ny_tess_squared, zoom=7)"
   ]
  },
  {
   "cell_type": "markdown",
   "id": "1ba74d66-621d-4b17-8cee-f17d88a8f5de",
   "metadata": {},
   "source": [
    "Then, we can create a `FlowDataFrame` from a file/url, specifying the spatial tessellation it refers to using argument `tessellation`. \n",
    "\n",
    "Also, you must specify the name of the column in the tessellation `GeoDataFrame` containing the identifier of the locations."
   ]
  },
  {
   "cell_type": "code",
   "execution_count": null,
   "id": "ab05626c",
   "metadata": {},
   "outputs": [],
   "source": [
    "url = \"https://github.com/scikit-mobility/tutorials/raw/master/mda_masterbd2020/data/NY_commuting_flows_2011.csv\"\n",
    "fdf = skmob.FlowDataFrame.from_file(url, tessellation=tessellation, tile_id='tile_id')\n",
    "fdf.head()"
   ]
  },
  {
   "cell_type": "code",
   "execution_count": null,
   "id": "84e09b79-1693-45c1-b16d-f78d22b373be",
   "metadata": {},
   "outputs": [],
   "source": [
    "fdf.tessellation"
   ]
  },
  {
   "cell_type": "code",
   "execution_count": null,
   "id": "49f3ab0f",
   "metadata": {},
   "outputs": [],
   "source": [
    "fdf.dtypes"
   ]
  },
  {
   "cell_type": "code",
   "execution_count": null,
   "id": "6caa419a",
   "metadata": {},
   "outputs": [],
   "source": [
    "type(fdf)"
   ]
  },
  {
   "cell_type": "markdown",
   "id": "b90efa96",
   "metadata": {},
   "source": [
    "You can access the spatial tessellation associated with the created `FlowDataFrame` using the attribute `.tessellation`."
   ]
  },
  {
   "cell_type": "code",
   "execution_count": null,
   "id": "e0b2c069",
   "metadata": {},
   "outputs": [],
   "source": [
    "# The tessellation is an attribute of the FlowDataFrame\n",
    "fdf.tessellation.head()"
   ]
  },
  {
   "cell_type": "code",
   "execution_count": null,
   "id": "2da0a19e",
   "metadata": {},
   "outputs": [],
   "source": [
    "fdf['origin'].unique()"
   ]
  },
  {
   "cell_type": "code",
   "execution_count": null,
   "id": "f48eb651",
   "metadata": {},
   "outputs": [],
   "source": [
    "tessellation['tile_id'].unique()"
   ]
  },
  {
   "cell_type": "code",
   "execution_count": null,
   "id": "f44a9632",
   "metadata": {},
   "outputs": [],
   "source": [
    "fdf.plot_flows()"
   ]
  },
  {
   "cell_type": "code",
   "execution_count": null,
   "id": "c582b476",
   "metadata": {},
   "outputs": [],
   "source": [
    "fdf.plot_tessellation()"
   ]
  },
  {
   "cell_type": "code",
   "execution_count": null,
   "id": "ecc2e232",
   "metadata": {},
   "outputs": [],
   "source": [
    "map_f = fdf.plot_tessellation()\n",
    "fdf.plot_flows(map_f=map_f)"
   ]
  },
  {
   "cell_type": "markdown",
   "id": "7a1af0d0-0735-4ed6-8921-f3dbd8031c26",
   "metadata": {},
   "source": [
    "<a id=\"exercises\"></a>\n",
    "## Exercises"
   ]
  },
  {
   "cell_type": "markdown",
   "id": "0983f2eb-1bb8-441f-b94f-2dc9281377e9",
   "metadata": {},
   "source": [
    "**Exercise 1.1**: Compute the area of Italian geographic subdivisions (regions, provinces, municipalities) using GeoPandas and plot their area as a bar chart\n",
    "- Download a shapefile that describe Italian regions (e.g., [here](https://gadm.org/download_country.html))\n",
    "- Make a [bar chart](https://matplotlib.org/stable/api/_as_gen/matplotlib.pyplot.bar.html), put the regions in increasing order of area (put the region’s name on the x axis)\n",
    "- Repeat for provinces and municipalities (plot only the 100 municipalities with the highest area)\n",
    "- Plot the shape of each region (in blue), with the shape of its capital municipality (in red)\n"
   ]
  },
  {
   "cell_type": "code",
   "execution_count": null,
   "id": "535706e5-c0ce-484e-a0fc-2e738f96266c",
   "metadata": {},
   "outputs": [],
   "source": []
  },
  {
   "cell_type": "markdown",
   "id": "1128ce11-3efd-492f-9ed3-7581d13b3b91",
   "metadata": {},
   "source": [
    "**Exercise 1.2**: Create and plot a GeoDataFrame with the top 1% and the bottom 1% municipalities in Italy based on their area\n",
    "- Download a shapefile that describe Italian regions (e.g., [here](https://gadm.org/download_country.html))\n",
    "- Create a GeoDataFrame with two rows (top 1% and bottom 1%) and the corresponding multipolygons\n",
    "- Plot the multipolygons with folium\n"
   ]
  },
  {
   "cell_type": "code",
   "execution_count": null,
   "id": "8d4c4b92-5a79-453b-90b3-9cb810155d32",
   "metadata": {},
   "outputs": [],
   "source": []
  },
  {
   "cell_type": "markdown",
   "id": "b997ea1f-ad14-417b-8ec0-b9cfd3ae3ff0",
   "metadata": {},
   "source": [
    "**Exercise 1.3**: Several [\"Los Pollos Hermanos\"](https://en.wikipedia.org/wiki/Los_Pollos_Hermanos) vans, carrying large quantities of methamphetamine (meth), were attacked by a drug cartel 10 times in an area in New Mexico. The DEA thinks the meth lab is at the centroid of this area.\n",
    "- Compute the smallest polygon that contains all the points corresponding to the attacks\n",
    "- Create a `GeometryCollection` that contains New Mexico, the polygon, and the points within it\n",
    "- Visualize the collection and the centroid in folium (use markers for points, color the centroid differently)\n",
    "- Randomly generate the attacks’ points in New Mexico\n"
   ]
  },
  {
   "cell_type": "code",
   "execution_count": null,
   "id": "78db19b2-74c0-4b00-94a8-91dcb16ae4fd",
   "metadata": {},
   "outputs": [],
   "source": []
  },
  {
   "cell_type": "markdown",
   "id": "67ac30f3-4e94-4f53-9240-253b3e9d1733",
   "metadata": {},
   "source": [
    "<a id=\"references\"></a>\n",
    "## References"
   ]
  },
  {
   "cell_type": "markdown",
   "id": "5e0e41fc-633d-4b2c-add5-da8392acc5d6",
   "metadata": {},
   "source": [
    "- **Automating GIS-processes**, [Lesson 1: Shapely and geometric objects](https://autogis-site.readthedocs.io/en/latest/notebooks/L1/geometric-objects.html)\n",
    "- **Essentials of Geographic Information Systems**, [Chapter 4, Section 4.2: Vector Data Models](https://saylordotorg.github.io/text_essentials-of-geographic-information-systems/s08-02-vector-data-models.html)\n",
    "- **learndatasci.com**, [Analyze Geospatial Data in Python: GeoPandas and Shapely](https://www.learndatasci.com/tutorials/geospatial-data-python-geopandas-shapely/)"
   ]
  },
  {
   "cell_type": "markdown",
   "id": "b93dd124-a34d-43a6-bab3-dd3991956848",
   "metadata": {},
   "source": [
    "# Yannis Kontoulis: 0030 694 75 63 842"
   ]
  },
  {
   "cell_type": "code",
   "execution_count": null,
   "id": "b6ebcc8f-d45e-45ba-b22b-112c787a24f3",
   "metadata": {},
   "outputs": [],
   "source": []
  }
 ],
 "metadata": {
  "kernelspec": {
   "display_name": "Python [conda env:GSA]",
   "language": "python",
   "name": "gsa"
  },
  "language_info": {
   "codemirror_mode": {
    "name": "ipython",
    "version": 3
   },
   "file_extension": ".py",
   "mimetype": "text/x-python",
   "name": "python",
   "nbconvert_exporter": "python",
   "pygments_lexer": "ipython3",
   "version": "3.9.13"
  },
  "toc-showmarkdowntxt": false
 },
 "nbformat": 4,
 "nbformat_minor": 5
}
