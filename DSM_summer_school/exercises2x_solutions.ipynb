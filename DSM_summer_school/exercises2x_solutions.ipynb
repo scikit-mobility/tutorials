{
 "cells": [
  {
   "cell_type": "markdown",
   "id": "0c53aaaa-4f90-40eb-a830-f3c859bc857f",
   "metadata": {},
   "source": [
    "**First International Summer School in Data Science for Mobility (DSM)**, 3-7 October 2022, Santorini, Greece\n",
    "\n",
    "<img width=200, src=\"http://master-school.isti.cnr.it/wp-content/uploads/2022/05/logo-Summer-School-Mobility-2022.png\"/>\n",
    "\n",
    "Author: [Luca Pappalardo](https://twitter.com/lucpappalard)"
   ]
  },
  {
   "cell_type": "markdown",
   "id": "e67294b6-e3bb-4c19-a65e-2d3e7cedb151",
   "metadata": {},
   "source": [
    "# Exercises 2.x"
   ]
  },
  {
   "cell_type": "markdown",
   "id": "6f35f537-9d32-4f37-967c-c394dc9638cf",
   "metadata": {},
   "source": [
    "## Exercise 2.1\n",
    "Download Cell Towers data about France from [OpenCellID](https://opencellid.org/). Then, create and visualize (in folium) a Voronoi tessellation of GSM towers in Lyon, France.\n",
    "- Use the [geovoronoi](https://pypi.org/project/geovoronoi/) package to create the Voronoi tessellation\n",
    "- Plot the tessellation with folium (Use just a random sample if the towers if they are too many to be visualized and/or to compute the tessellation) "
   ]
  },
  {
   "cell_type": "code",
   "execution_count": null,
   "id": "87573ab6-e207-4c1b-800b-ad4541b807cf",
   "metadata": {},
   "outputs": [],
   "source": [
    "import pandas as pd\n",
    "import geopandas as gpd"
   ]
  },
  {
   "cell_type": "code",
   "execution_count": null,
   "id": "989394be-34e4-455c-83be-9c551497dec6",
   "metadata": {},
   "outputs": [],
   "source": [
    "FRANCE = 'data/208.csv.gz'"
   ]
  },
  {
   "cell_type": "code",
   "execution_count": null,
   "id": "432df6a8-bc87-4acb-8609-f376d9a56d9f",
   "metadata": {},
   "outputs": [],
   "source": [
    "columns = ['Radio', 'MCC', 'MNC', 'LAC/TAC/NID', 'CID', 'Longitude', 'Latitude', \n",
    "                                 'Range', 'Samples', 'Changeable', 'Created', 'Updated']\n",
    "df = pd.read_csv(FRANCE, header=None).drop([5, 13], axis=1)\n",
    "df.columns = columns\n",
    "print(len(df))\n",
    "df.head()"
   ]
  },
  {
   "cell_type": "code",
   "execution_count": null,
   "id": "c6cfe781-bc91-4658-9ed3-d3f826e486b5",
   "metadata": {},
   "outputs": [],
   "source": [
    "df_gsm = df[df['Radio'] == 'GSM']\n",
    "df_gsm.head()"
   ]
  },
  {
   "cell_type": "markdown",
   "id": "5a8284b1-3ba1-4103-9514-5f710f84378c",
   "metadata": {},
   "source": [
    "Let's transform it into a `GeoDataFrame`"
   ]
  },
  {
   "cell_type": "code",
   "execution_count": null,
   "id": "d9c1bd2a-1c9f-46c8-8593-53ec1ff378f4",
   "metadata": {},
   "outputs": [],
   "source": [
    "%%time\n",
    "gdf = gpd.GeoDataFrame(df, geometry=gpd.points_from_xy(df.Longitude, df.Latitude), crs='EPSG:4326')\n",
    "gdf.head()"
   ]
  },
  {
   "cell_type": "markdown",
   "id": "4903c7de-5517-44ff-a25b-54fc310dcb53",
   "metadata": {},
   "source": [
    "Let's download the shape of Lyon, France "
   ]
  },
  {
   "cell_type": "code",
   "execution_count": null,
   "id": "2ca796dd-b04a-4203-8e41-732eaa27caa2",
   "metadata": {},
   "outputs": [],
   "source": [
    "import osmnx as ox"
   ]
  },
  {
   "cell_type": "code",
   "execution_count": null,
   "id": "a30d8a42-2add-42c2-88a5-2ad08919b1a9",
   "metadata": {},
   "outputs": [],
   "source": [
    "lyon_gdf = ox.geocode_to_gdf('Lyon, France')\n",
    "ax = ox.project_gdf(lyon_gdf).plot()\n",
    "_ = ax.axis('off')"
   ]
  },
  {
   "cell_type": "code",
   "execution_count": null,
   "id": "9219f53f-51dc-4a9b-8189-495c424dbc03",
   "metadata": {},
   "outputs": [],
   "source": [
    "lyon_poly = lyon_gdf['geometry'].iloc[0]\n",
    "lyon_poly"
   ]
  },
  {
   "cell_type": "code",
   "execution_count": null,
   "id": "4e85399d-cbe0-46c3-89bd-b0570d778cbb",
   "metadata": {},
   "outputs": [],
   "source": [
    "%%time\n",
    "gdf_lyon = gdf.sjoin(lyon_gdf)\n",
    "gdf_lyon.head()"
   ]
  },
  {
   "cell_type": "code",
   "execution_count": null,
   "id": "be909d44-65ac-4552-8415-7be2197aa586",
   "metadata": {},
   "outputs": [],
   "source": [
    "from geovoronoi import voronoi_regions_from_coords, points_to_coords\n",
    "from geovoronoi import voronoi_regions_from_coords\n",
    "from scipy.spatial import Voronoi,voronoi_plot_2d"
   ]
  },
  {
   "cell_type": "code",
   "execution_count": null,
   "id": "177248fa-d0d8-4cb1-8980-6f0ee680b05a",
   "metadata": {},
   "outputs": [],
   "source": [
    "def to_GeoDataFrame(region_polys):\n",
    "    name=[]\n",
    "    for i in range(1, len(region_polys) + 1):\n",
    "        name.append('cell ' + str(i))\n",
    "    gdf = gpd.GeoDataFrame(columns=['name','geometry'], crs={'init': 'epsg:4326'})\n",
    "    gdf['name'] = name\n",
    "    for index, row in gdf.iterrows():\n",
    "        gdf.at[index, 'geometry'] = region_polys[index]\n",
    "    return gdf\n",
    "\n",
    "\n",
    "def get_voronoi_tessellation(poly_ch, points):\n",
    "    vor = Voronoi(points, qhull_options='Qbb Qc Qx')\n",
    "    region_polys, region_pts = voronoi_regions_from_coords(points, poly_ch)\n",
    "    tess_voronoi = to_GeoDataFrame(region_polys)\n",
    "    return tess_voronoi"
   ]
  },
  {
   "cell_type": "code",
   "execution_count": null,
   "id": "e5949026-652f-46e5-bde2-f299ffd5797f",
   "metadata": {},
   "outputs": [],
   "source": [
    "vor_centroids = gdf_lyon[['Longitude', 'Latitude']].to_numpy()\n",
    "vor_centroids"
   ]
  },
  {
   "cell_type": "code",
   "execution_count": null,
   "id": "bc6ee2f1-e69e-45bf-a45b-2b87383eee61",
   "metadata": {},
   "outputs": [],
   "source": [
    "%%time\n",
    "tess_voronoi_lyon = get_voronoi_tessellation(lyon_poly, vor_centroids)\n",
    "tess_voronoi_lyon.head()"
   ]
  },
  {
   "cell_type": "code",
   "execution_count": null,
   "id": "00d62084-6d5e-4c32-9636-459f035f5887",
   "metadata": {},
   "outputs": [],
   "source": [
    "import folium"
   ]
  },
  {
   "cell_type": "code",
   "execution_count": null,
   "id": "4edd26c0-ed12-4fad-aadc-9183a25bf8b3",
   "metadata": {},
   "outputs": [],
   "source": [
    "map_f = folium.Map(\n",
    "    location=[lyon_poly.centroid.y, lyon_poly.centroid.x],\n",
    "    tiles=\"cartodbpositron\",\n",
    "    zoom_start=12,\n",
    ")\n",
    "\n",
    "# city \n",
    "sim_geo = gpd.GeoSeries(lyon_poly)\n",
    "geo_j = sim_geo.to_json()\n",
    "geo_j = folium.GeoJson(data=geo_j,\n",
    "                       style_function=lambda x: {'fillColor': 'orange', 'color': 'blue', 'weight': 1})\n",
    "geo_j.add_to(map_f)\n",
    "\n",
    "\n",
    "# voronoi\n",
    "sim_geo = gpd.GeoSeries(tess_voronoi_lyon['geometry'])\n",
    "geo_j = sim_geo.to_json()\n",
    "geo_j = folium.GeoJson(data=geo_j,\n",
    "                       style_function=lambda x: {'fillColor': 'blue', 'color': 'blue', 'weight': 0.5})\n",
    "geo_j.add_to(map_f)\n",
    "\n",
    "map_f"
   ]
  },
  {
   "cell_type": "markdown",
   "id": "8ba7544e-6381-4432-8c34-85c1e812dd7f",
   "metadata": {},
   "source": [
    "## Exercise 2.2\n",
    "Use OSMnx to download the shapes of all cinemas in Rome.\n",
    "- Plot in folium the shape of the municipality of Rome\n",
    "- Plot the smallest polygon that contains all cinemas in Rome\n",
    "- Plot the cinemas in folium with a pop-up showing their name\n",
    "- Compute the cinemas with the lowest and highest average distance to the others, and draw a circle (of radius 100m)"
   ]
  },
  {
   "cell_type": "code",
   "execution_count": null,
   "id": "bdd93470-40a2-48ee-a16a-c29b10bf798d",
   "metadata": {},
   "outputs": [],
   "source": [
    "import osmnx as ox"
   ]
  },
  {
   "cell_type": "code",
   "execution_count": null,
   "id": "aeed9188-9ea0-4775-b9b7-6d2bb7e235d1",
   "metadata": {},
   "outputs": [],
   "source": [
    "# get all the parks in some neighborhood\n",
    "# constrain acceptable `leisure` tag values to `park`\n",
    "tags = {\"amenity\": 'cinema'}\n",
    "gdf = ox.geometries_from_place('Rome, Italy', tags)\n",
    "gdf.shape"
   ]
  },
  {
   "cell_type": "code",
   "execution_count": null,
   "id": "b45c75b9-95ee-43d3-b8ef-77fc3a54ca33",
   "metadata": {},
   "outputs": [],
   "source": [
    "gdf.head()"
   ]
  },
  {
   "cell_type": "code",
   "execution_count": null,
   "id": "e8bb9d46-16ab-4de3-8709-901e5844711b",
   "metadata": {},
   "outputs": [],
   "source": [
    "gdf.plot()"
   ]
  },
  {
   "cell_type": "code",
   "execution_count": null,
   "id": "830db5b2-8403-49fe-a02d-699f6c3b6796",
   "metadata": {},
   "outputs": [],
   "source": [
    "import geopandas as gpd\n",
    "import folium, shapely\n",
    "from shapely.geometry import MultiPoint, Point"
   ]
  },
  {
   "cell_type": "code",
   "execution_count": null,
   "id": "6e9ccad4-f01e-48bb-aeaa-2d4e873d0232",
   "metadata": {},
   "outputs": [],
   "source": [
    "city = ox.geocode_to_gdf('Rome, Italy')\n",
    "ax = ox.project_gdf(city).plot()\n",
    "_ = ax.axis('off')"
   ]
  },
  {
   "cell_type": "code",
   "execution_count": null,
   "id": "7bd38bad-2b73-45e9-a731-17854a31a683",
   "metadata": {},
   "outputs": [],
   "source": [
    "city['geometry'].iloc[0]"
   ]
  },
  {
   "cell_type": "code",
   "execution_count": null,
   "id": "d5b08b83-ebe2-40cd-a999-c490eb951184",
   "metadata": {},
   "outputs": [],
   "source": [
    "points = []\n",
    "for i, row in gdf.iterrows():\n",
    "    if isinstance(row['geometry'], Point):\n",
    "        points.append(row['geometry'])\n",
    "    else:\n",
    "        points.append(row['geometry'].centroid)"
   ]
  },
  {
   "cell_type": "code",
   "execution_count": null,
   "id": "9b7d1fdc-172d-413c-8f8a-ae620288182c",
   "metadata": {},
   "outputs": [],
   "source": [
    "ch_cinemas = MultiPoint(points).convex_hull\n",
    "ch_cinemas"
   ]
  },
  {
   "cell_type": "code",
   "execution_count": null,
   "id": "165e4fb4-5841-457e-b02a-f42091919535",
   "metadata": {},
   "outputs": [],
   "source": [
    "distances = gdf['geometry'].apply(lambda g: gdf.distance(g))"
   ]
  },
  {
   "cell_type": "code",
   "execution_count": null,
   "id": "1ebb60c2-80a5-4213-8466-b17b98a324e7",
   "metadata": {},
   "outputs": [],
   "source": [
    "max_node = distances.mean().idxmax()[1]"
   ]
  },
  {
   "cell_type": "code",
   "execution_count": null,
   "id": "dc4df1bf-456e-43d9-857c-1409565667fb",
   "metadata": {},
   "outputs": [],
   "source": [
    "min_node = distances.mean().idxmin()[1]"
   ]
  },
  {
   "cell_type": "code",
   "execution_count": null,
   "id": "5586a8a3-921e-49b2-881b-b274029ff7ff",
   "metadata": {},
   "outputs": [],
   "source": [
    "gdf = gdf.reset_index()"
   ]
  },
  {
   "cell_type": "code",
   "execution_count": null,
   "id": "81271b4c-d946-46b6-8204-a73934e85bed",
   "metadata": {},
   "outputs": [],
   "source": [
    "max_point = gdf[gdf['osmid'] == max_node]['geometry'].iloc[0]\n",
    "min_point = gdf[gdf['osmid'] == min_node]['geometry'].iloc[0]"
   ]
  },
  {
   "cell_type": "code",
   "execution_count": null,
   "id": "3b2393bd-322e-4baa-9b3d-37a515cfd4b7",
   "metadata": {},
   "outputs": [],
   "source": [
    "map_f = folium.Map(\n",
    "    location=[city.centroid.y, city.centroid.x],\n",
    "    tiles=\"cartodbpositron\",\n",
    "    zoom_start=10,\n",
    ")\n",
    "\n",
    "# city \n",
    "sim_geo = gpd.GeoSeries(city['geometry'])\n",
    "geo_j = sim_geo.to_json()\n",
    "geo_j = folium.GeoJson(data=geo_j,\n",
    "                       style_function=lambda x: {'fillColor': 'orange', 'color': 'blue', 'weight': 1})\n",
    "geo_j.add_to(map_f)\n",
    "\n",
    "# convex_hull\n",
    "sim_geo = gpd.GeoSeries(ch_cinemas)\n",
    "geo_j = sim_geo.to_json()\n",
    "geo_j = folium.GeoJson(data=geo_j,\n",
    "                       style_function=lambda x: {'fillColor': 'blue', 'color': 'blue', 'weight': 1})\n",
    "geo_j.add_to(map_f)\n",
    "\n",
    "# cinemas\n",
    "for i, row in gdf.iterrows():\n",
    "    sim_geo = gpd.GeoSeries(row['geometry'])\n",
    "    geo_j = sim_geo.to_json()\n",
    "    geo_j = folium.GeoJson(data=geo_j,\n",
    "                           style_function=lambda x: {'fillColor': 'orange', 'color': 'blue', 'weight': 1})\n",
    "    folium.Popup(row['name']).add_to(geo_j)\n",
    "    geo_j.add_to(map_f)\n",
    "\n",
    "    \n",
    "folium.Circle(location=[max_point.y, max_point.x],\n",
    "              radius=100,\n",
    "              fill_color='red',\n",
    "              color='red'\n",
    "              ).add_to(map_f)\n",
    "\n",
    "    \n",
    "folium.Circle(location=[min_point.y, min_point.x],\n",
    "              radius=100,\n",
    "              fill_color='red',\n",
    "              color='red'\n",
    "              ).add_to(map_f)\n",
    "\n",
    "    \n",
    "map_f"
   ]
  },
  {
   "cell_type": "markdown",
   "id": "0a7d5c2b-e8ed-4ade-ba42-3d62a3b816b9",
   "metadata": {},
   "source": [
    "## Exercise 2.3\n",
    "Download from figshare this [flows dataset](https://figshare.com/collections/Inter-urban_interactions_of_mobility_via_cellular_position_tracking_in_the_southeast_Songliao_Basin_Northeast_China/4226183), create a tessellation and a `FlowDataFrame`; plot them together using skmob."
   ]
  },
  {
   "cell_type": "code",
   "execution_count": null,
   "id": "90e16344-de5e-4c8d-92a4-e5551cff76f4",
   "metadata": {},
   "outputs": [],
   "source": [
    "import requests, zipfile, json, io\n",
    "from shapely.geometry import Point"
   ]
  },
  {
   "cell_type": "code",
   "execution_count": null,
   "id": "59e39295-3d07-4bca-8429-b9b689921868",
   "metadata": {},
   "outputs": [],
   "source": [
    "import pandas as pd\n",
    "import geopandas as gpd\n",
    "import skmob"
   ]
  },
  {
   "cell_type": "code",
   "execution_count": null,
   "id": "0a1f453d-e002-4823-80ac-896546509beb",
   "metadata": {},
   "outputs": [],
   "source": [
    "dataset_links = {\n",
    "'positions' : 'https://figshare.com/ndownloader/files/14005292',\n",
    "'flows' : 'https://figshare.com/ndownloader/files/14884442',\n",
    "}"
   ]
  },
  {
   "cell_type": "markdown",
   "id": "5407ed99-611a-4cc2-8117-84fe69544042",
   "metadata": {},
   "source": [
    "Download the tessellation:"
   ]
  },
  {
   "cell_type": "code",
   "execution_count": null,
   "id": "37aec965-ad1f-4209-815d-5871d4b39c9e",
   "metadata": {},
   "outputs": [],
   "source": [
    "r = requests.get(dataset_links['positions'], stream=True)\n",
    "print(r.text.replace('\\r', '\\n'), file=open('positions.csv','w'))"
   ]
  },
  {
   "cell_type": "code",
   "execution_count": null,
   "id": "e68e3982-e41b-4ae6-b5dd-7377fdac9de7",
   "metadata": {},
   "outputs": [],
   "source": [
    "positions_df = pd.read_csv('positions.csv')\n",
    "positions_df.head()"
   ]
  },
  {
   "cell_type": "code",
   "execution_count": null,
   "id": "1d9e4217-2b85-4021-abcc-5fec49716acc",
   "metadata": {},
   "outputs": [],
   "source": [
    "gdf = gpd.GeoDataFrame(positions_df, \n",
    "                       geometry=gpd.points_from_xy(positions_df['Longitude'], positions_df['Latitude'])).drop(['Longitude', 'Latitude'], axis=1).rename(columns={'Location': 'tile_ID'})\n",
    "gdf.head()"
   ]
  },
  {
   "cell_type": "markdown",
   "id": "1db0206c-5c71-403b-a569-326f7bc0b9d6",
   "metadata": {},
   "source": [
    "Download the flows:"
   ]
  },
  {
   "cell_type": "code",
   "execution_count": null,
   "id": "7530e18e-78da-4649-98e3-69ff89e1b572",
   "metadata": {},
   "outputs": [],
   "source": [
    "r = requests.get(dataset_links['flows'], stream=True)\n",
    "print(r.text, file=open('flows.csv','w'))"
   ]
  },
  {
   "cell_type": "code",
   "execution_count": null,
   "id": "a1d4d6b7-5ecf-443b-a9a5-9f3cd0e2c9f0",
   "metadata": {},
   "outputs": [],
   "source": [
    "fdf = skmob.FlowDataFrame(pd.read_csv('flows.csv'), origin='Origin', destination='Destination', flow='Weight', tile_id='tile_ID', tessellation=gdf)\n",
    "fdf.head()"
   ]
  },
  {
   "cell_type": "code",
   "execution_count": null,
   "id": "f5a17546-1506-4423-8069-5036a6660c30",
   "metadata": {},
   "outputs": [],
   "source": [
    "fdf.plot_flows(min_flow=500)"
   ]
  },
  {
   "cell_type": "code",
   "execution_count": null,
   "id": "d12b8657-e670-4eec-923d-ace357e61a97",
   "metadata": {},
   "outputs": [],
   "source": []
  }
 ],
 "metadata": {
  "kernelspec": {
   "display_name": "Python [conda env:GSA]",
   "language": "python",
   "name": "gsa"
  },
  "language_info": {
   "codemirror_mode": {
    "name": "ipython",
    "version": 3
   },
   "file_extension": ".py",
   "mimetype": "text/x-python",
   "name": "python",
   "nbconvert_exporter": "python",
   "pygments_lexer": "ipython3",
   "version": "3.9.13"
  }
 },
 "nbformat": 4,
 "nbformat_minor": 5
}
