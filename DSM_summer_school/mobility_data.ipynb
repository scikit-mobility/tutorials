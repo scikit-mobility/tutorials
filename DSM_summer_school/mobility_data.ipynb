{
 "cells": [
  {
   "cell_type": "markdown",
   "metadata": {},
   "source": [
    "**First International Summer School in Data Science for Mobility (DSM)**, 3-7 October 2022, Santorini, Greece\n",
    "\n",
    "<img width=200, src=\"http://master-school.isti.cnr.it/wp-content/uploads/2022/05/logo-Summer-School-Mobility-2022.png\"/>\n",
    "\n",
    "Author: [Luca Pappalardo](https://twitter.com/lucpappalard)"
   ]
  },
  {
   "cell_type": "markdown",
   "metadata": {},
   "source": [
    "# Mobility Data\n",
    "\n",
    "In this lesson, we will learn how to handle and explore spatial data in Python using folium and scikit-mobility.\n",
    "\n",
    "1. [Exploring datasets](#exploring)\n",
    "    - [GPS traces](#gpstraces)\n",
    "    - [Geotagged posts](#geotaggedposts)\n",
    "    - [Skmob data module](#datamodule)\n",
    "    - [Practice](#practice1)\n",
    "2. [OSMnx](#osmnx)\n",
    "    - [Get administrative boundaries](#getboundaries)\n",
    "    - [Points of Interest and Geospatial entities](#pois)\n",
    "3. [Exercises](#exercises)"
   ]
  },
  {
   "cell_type": "markdown",
   "metadata": {
    "id": "htgL-U5DyyvG"
   },
   "source": [
    "<a id=\"exploring\"></a>\n",
    "# Exploring datasets in scikit-mobility\n",
    "\n",
    "One of the use cases for [scikit-mobility](https://github.com/scikit-mobility/scikit-mobility) is the exploratory data analysis of mobility datasets, which includes the visualization of trajectories and flows. \n",
    "\n",
    "To this end, both `TrajDataFrame` and `FlowDataFrame` have methods that allow the user to produce interactive visualizations generated using [folium](https://python-visualization.github.io/folium/). "
   ]
  },
  {
   "cell_type": "markdown",
   "metadata": {
    "id": "KoxgghrpzPs9"
   },
   "source": [
    "## Visualizing trajectories\n",
    "\n",
    "A `TrajDataFrame` has three main plotting methods: \n",
    "- `plot_trajectory` plots a line connecting the trajectory points on a map;\n",
    "- `plot_stops` plots the location of stops on a map; \n",
    "- `plot_diary` plots the sequence of visited locations over time."
   ]
  },
  {
   "cell_type": "markdown",
   "metadata": {
    "id": "z2khbDKLA01K"
   },
   "source": [
    "### Plot trajectories\n",
    "\n",
    "Method `plot_trajectory` plots the time-ordered trajectory points connected by straight lines on a map. \n",
    "\n",
    "If the column `uid`is present and contains more than one object, the trajectory points are first grouped by `uid` and then sorted by `datetime`.\n",
    "\n",
    "Large `TrajDataFrame`s with many points can be computationally intensive to visualize. Two arguments can be used to reduce the amount of data to plot:\n",
    "- `max_users` limits the number of objects whose trajectories should be plotted\n",
    "- `max_points` limits the number of trajectory points per object to plot, i.e., if necessary an object's trajectory will be down-sampled and at most `max_points` points will be plotted.\n",
    "\n",
    "The plot style can be customized via arguments to specify the color, weight, and opacity of the trajectory lines, as well as the type of map tiles to use. \n",
    "The user can also plot markers denoting the start points and the end points of the trajectory. \n",
    "\n",
    "The `plot_trajectory` method, as well as all the other plotting methods, return a `folium.Map` object, which can be used by other `folium` and scikit-mobility functions to visualize additional data on the same map. A `folium.Map` object can be passed to a plotting method via the argument `map_f`. If `map_f` is `None`, the trajectories are plotted on a new map.\n"
   ]
  },
  {
   "cell_type": "code",
   "execution_count": null,
   "metadata": {
    "executionInfo": {
     "elapsed": 961,
     "status": "ok",
     "timestamp": 1654001938462,
     "user": {
      "displayName": "Luca Pappalardo",
      "userId": "07273797434895770197"
     },
     "user_tz": -120
    },
    "id": "zbWyIQ6WDKoN"
   },
   "outputs": [],
   "source": [
    "# import the library\n",
    "import skmob\n",
    "import pandas as pd\n",
    "import folium\n",
    "from folium.plugins import HeatMap"
   ]
  },
  {
   "cell_type": "code",
   "execution_count": null,
   "metadata": {},
   "outputs": [],
   "source": [
    "skmob.__version__"
   ]
  },
  {
   "cell_type": "code",
   "execution_count": null,
   "metadata": {},
   "outputs": [],
   "source": [
    "# From a list\n",
    "data_list = [[1, 39.984044, 116.319236, '2008-10-23 13:53:05'],\n",
    "             [1, 39.984198, 116.319322, '2008-10-23 13:53:06'],\n",
    "             [1, 39.974224, 116.319402, '2008-10-23 13:53:11'],\n",
    "             [1, 39.974211, 116.219389, '2008-10-23 13:53:16']]"
   ]
  },
  {
   "cell_type": "code",
   "execution_count": null,
   "metadata": {},
   "outputs": [],
   "source": [
    "tdf = skmob.TrajDataFrame(data_list, user_id=0, latitude=1, longitude=2, datetime=3)\n",
    "tdf"
   ]
  },
  {
   "cell_type": "code",
   "execution_count": null,
   "metadata": {},
   "outputs": [],
   "source": [
    "map_f = tdf.plot_trajectory(zoom=12, start_end_markers=True, hex_color='red')\n",
    "map_f"
   ]
  },
  {
   "cell_type": "markdown",
   "metadata": {},
   "source": [
    "<a id='gpstraces'></a>\n",
    "## GPS traces\n",
    "\n",
    "The [Geolife dataset](https://www.microsoft.com/en-us/download/details.aspx?id=52367&from=https%3A%2F%2Fresearch.microsoft.com%2Fen-us%2Fdownloads%2Fb16d359d-d164-469e-9fd4-daa38f2b2e13%2F) is a GPS trajectory dataset collected by Microsoft Research Asia. The dataset describes 182 users in a period of over three years (from April 2007 to August 2012)."
   ]
  },
  {
   "cell_type": "code",
   "execution_count": null,
   "metadata": {
    "colab": {
     "base_uri": "https://localhost:8080/",
     "height": 224
    },
    "executionInfo": {
     "elapsed": 847,
     "status": "ok",
     "timestamp": 1654001939304,
     "user": {
      "displayName": "Luca Pappalardo",
      "userId": "07273797434895770197"
     },
     "user_tz": -120
    },
    "id": "kOmhcTJ7AlSe",
    "outputId": "e18bf0d1-3cbf-4637-9f74-fd56d472bbea"
   },
   "outputs": [],
   "source": [
    "# create a TrajDataFrame from a dataset of GPS traces\n",
    "url = \"https://github.com/scikit-mobility/tutorials/raw/master/mda_masterbd2020/data/geolife_sample.txt.gz\"\n",
    "tdf = skmob.TrajDataFrame.from_file(url)\n",
    "print(type(tdf))\n",
    "tdf.head()"
   ]
  },
  {
   "cell_type": "code",
   "execution_count": null,
   "metadata": {
    "colab": {
     "base_uri": "https://localhost:8080/"
    },
    "executionInfo": {
     "elapsed": 12,
     "status": "ok",
     "timestamp": 1654001939305,
     "user": {
      "displayName": "Luca Pappalardo",
      "userId": "07273797434895770197"
     },
     "user_tz": -120
    },
    "id": "qxPqHyy8ZsgY",
    "outputId": "71e1bf2a-5f6c-49e4-9ab1-0e9b071e0921"
   },
   "outputs": [],
   "source": [
    "tdf.uid.unique()"
   ]
  },
  {
   "cell_type": "code",
   "execution_count": null,
   "metadata": {
    "colab": {
     "base_uri": "https://localhost:8080/",
     "height": 876
    },
    "executionInfo": {
     "elapsed": 456,
     "status": "ok",
     "timestamp": 1654001939751,
     "user": {
      "displayName": "Luca Pappalardo",
      "userId": "07273797434895770197"
     },
     "user_tz": -120
    },
    "id": "vnZ-cZePEMTp",
    "outputId": "ae003222-fc1f-4379-90e4-cded31594dc6"
   },
   "outputs": [],
   "source": [
    "map_f = tdf.plot_trajectory(zoom=12, max_users=2) #hex_color='#000000')\n",
    "map_f"
   ]
  },
  {
   "cell_type": "markdown",
   "metadata": {
    "id": "RDL2V1Z6GSa9"
   },
   "source": [
    "NOTE: if trajectories represent abstract mobility, such as movements extracted from social media posts or mobile phone records, straight lines may appear that do not consider walls, buildings, and similar structures on the road network. "
   ]
  },
  {
   "cell_type": "markdown",
   "metadata": {},
   "source": [
    "## Geotagged traces\n",
    "\n",
    "Brightkite was once a location-based social networking service provider where users shared their locations by checking-in. The [available dataset](https://snap.stanford.edu/data/loc-brightkite.html) describes friendship network was collected using their public API, and consists of $58,228$ nodes and $214,078$ edges. The network is originally directed but we have constructed a network with undirected edges when there is a friendship in both ways. The dataset also contains a total of $4,491,143$ checkins of these users over the period of Apr. 2008 - Oct. 2010."
   ]
  },
  {
   "cell_type": "code",
   "execution_count": null,
   "metadata": {},
   "outputs": [],
   "source": [
    "url = 'https://snap.stanford.edu/data/loc-brightkite_totalCheckins.txt.gz'\n",
    "df = pd.read_csv(url, sep = '\\t', header = 0, nrows = 100000, \n",
    "                 names = ['user', 'check-in_time', 'latitude', 'longitude', 'location id'])\n",
    "tdf_ci = skmob.TrajDataFrame(df, latitude = 'latitude', longitude = 'longitude', \n",
    "                          datetime = 'check-in_time', user_id = 'user').sort_values(by = 'datetime')"
   ]
  },
  {
   "cell_type": "code",
   "execution_count": null,
   "metadata": {},
   "outputs": [],
   "source": [
    "tdf_ci.head()"
   ]
  },
  {
   "cell_type": "code",
   "execution_count": null,
   "metadata": {},
   "outputs": [],
   "source": [
    "map_f = tdf_ci.plot_trajectory(max_users=2, start_end_markers=False, zoom=3)\n",
    "folium.Marker([0.0, 0.0], popup=\"Null Island\", tooltip=\"Null Island\").add_to(map_f)\n",
    "map_f"
   ]
  },
  {
   "cell_type": "code",
   "execution_count": null,
   "metadata": {},
   "outputs": [],
   "source": [
    "ni_tdf_ci = tdf_ci[(tdf_ci['lat'] == 0.0) & (tdf_ci['lng'] == 0.0)]\n",
    "print(len(ni_tdf_ci))\n",
    "ni_tdf_ci"
   ]
  },
  {
   "cell_type": "code",
   "execution_count": null,
   "metadata": {},
   "outputs": [],
   "source": [
    "map_f = folium.Map(location=[0.0, 0.0], zoom_start = 5) \n",
    "heat_data = [[row['lat'],row['lng']] for index, row in tdf_ci.iterrows()]\n",
    "HeatMap(heat_data).add_to(map_f)\n",
    "folium.Marker([0.0, 0.0], popup=\"Null Island\", tooltip=\"Null Island\").add_to(map_f)\n",
    "map_f"
   ]
  },
  {
   "cell_type": "markdown",
   "metadata": {
    "id": "tzmDYHehJszw"
   },
   "source": [
    "## Visualizing flows\n",
    "\n",
    "A `FlowDataFrame` has two main plotting methods:\n",
    "- `plot_tessellation` plots the tessellation's tiles on a geographic map;\n",
    "- `plot_flows` plots, on a geographic map, the lines connecting the centroids of the tessellation's tiles between which flows are present."
   ]
  },
  {
   "cell_type": "markdown",
   "metadata": {
    "id": "7JDKevJAKOHe"
   },
   "source": [
    "### Plot tessellation\n",
    "\n",
    "Method `plot_tessellation` plots the `GeoDataFrame` associated with a `FlowDataFrame` on a geographic map. \n",
    "\n",
    "Large tessellations with many tiles can be computationally intensive to visualize. The argument `maxitems` can be used to limit the number of tiles to plot (default: -1, which means that all tiles are displayed).\n",
    "\n",
    "The plot style can be customized via arguments to specify the color, opacity of the tiles, and the type of map tiles to use. The argument `popup_features` allows to enhance the plot's interactivity displaying popup windows that appear when the user clicks on a tile and includes information contained in the columns of the tessellation's `GeoDataFrame` specified in the argument's list."
   ]
  },
  {
   "cell_type": "code",
   "execution_count": null,
   "metadata": {
    "id": "_9F4UNYaKnkj"
   },
   "outputs": [],
   "source": [
    "import geopandas as gpd\n",
    "from skmob import FlowDataFrame"
   ]
  },
  {
   "cell_type": "code",
   "execution_count": null,
   "metadata": {
    "id": "rBru1SDpK2z6"
   },
   "outputs": [],
   "source": [
    "url = \"https://raw.githubusercontent.com/scikit-mobility/tutorials/master/mda_masterbd2020/data/NY_counties_2011.geojson\"\n",
    "tessellation = gpd.read_file(\n",
    "    url) # load a tessellation\n",
    "tessellation.head()"
   ]
  },
  {
   "cell_type": "code",
   "execution_count": null,
   "metadata": {},
   "outputs": [],
   "source": [
    "tessellation.plot()"
   ]
  },
  {
   "cell_type": "code",
   "execution_count": null,
   "metadata": {},
   "outputs": [],
   "source": [
    "from skmob.utils.plot import plot_gdf"
   ]
  },
  {
   "cell_type": "code",
   "execution_count": null,
   "metadata": {},
   "outputs": [],
   "source": [
    "plot_gdf(tessellation)"
   ]
  },
  {
   "cell_type": "code",
   "execution_count": null,
   "metadata": {
    "id": "tic2l4YyLCe3"
   },
   "outputs": [],
   "source": [
    "url = \"https://github.com/scikit-mobility/tutorials/raw/master/mda_masterbd2020/data/NY_commuting_flows_2011.csv\"\n",
    "# create a FlowDataFrame from a file and a tessellation\n",
    "fdf = skmob.FlowDataFrame.from_file(url, tessellation=tessellation, tile_id='tile_id')\n",
    "fdf.head()"
   ]
  },
  {
   "cell_type": "code",
   "execution_count": null,
   "metadata": {
    "id": "pURWx0cJLJgi"
   },
   "outputs": [],
   "source": [
    "fdf.plot_tessellation(popup_features=['tile_id','population'], style_func_args={'fillColor':'black', 'color':'red'})"
   ]
  },
  {
   "cell_type": "markdown",
   "metadata": {
    "id": "lR-VyWqjMZ2l"
   },
   "source": [
    "### Plot flows\n",
    "\n",
    "Method `plot_flows` plots the flows on a geographic map as lines between the centroids of the tiles in the `FlowDataFrame`'s tessellation. \n",
    "\n",
    "Large `FlowDataFrame`s with many origin-destination pairs can be computationally intensive to visualize. The argument `min_flow` can be used to specify that only flows larger than `min_flow` should be displayed. \n",
    "\n",
    "The thickness of each line is a function of the flow and can be specified via the arguments `flow_weight`, `flow_exp` and `style_function`. \n",
    "\n",
    "The plot style can be further customized via arguments to specify the color, opacity of the flow lines, and the type of map tiles to use. \n",
    "\n",
    "The arguments `flow_popup` and `tile_popup` allow enhancing the plot's interactivity displaying popup windows that appear when the user clicks on a flow line or a circle in an origin location, respectively, and include information on the flow or the flows from a location."
   ]
  },
  {
   "cell_type": "code",
   "execution_count": null,
   "metadata": {
    "id": "ZjGIUOSfM6tw"
   },
   "outputs": [],
   "source": [
    "fdf.plot_flows(min_flow=500)"
   ]
  },
  {
   "cell_type": "markdown",
   "metadata": {
    "id": "pK8NciiPNFJV"
   },
   "source": [
    "The user can also visualize the tessellation and the flows in the same plot."
   ]
  },
  {
   "cell_type": "code",
   "execution_count": null,
   "metadata": {
    "id": "lsjs0RtYNGHs"
   },
   "outputs": [],
   "source": [
    "map_f = fdf.plot_tessellation(style_func_args={'fillColor':'blue', 'color':'blue'}) \n",
    "fdf.plot_flows(map_f=map_f, min_flow=50)#, flow_exp=0.5)"
   ]
  },
  {
   "cell_type": "markdown",
   "metadata": {},
   "source": [
    "<a id=\"datamodule\"></a>\n",
    "## The scikit-mobility data module"
   ]
  },
  {
   "cell_type": "markdown",
   "metadata": {},
   "source": [
    "The scikit-mobility data module allows you to retrieve mobility datasets via an easy-to-use interface. Look at the documentation [here](https://scikit-mobility.github.io/scikit-mobility/reference/data.html).\n",
    "\n",
    "The data module API consists of two main functions: `list_datasets` and `load_dataset`. \n",
    "- `list_datasets` shows the datasets already available in the repository;\n",
    "- `load_dataset `retrieves the requested dataset and directly outputs it into a skmob-friendly data structure.\n",
    "\n",
    "___\n",
    "\n",
    "The scikit-mobility data types and format to describe mobility data are the following:\n",
    "\n",
    "- trajectory $\\rightarrow$ `TrajDataFrame`\n",
    "- flow $\\rightarrow$ `FlowDataFrame`\n",
    "- shape $\\rightarrow$ `GeoDataFrame`\n",
    "- auxiliar $\\rightarrow$ `DataFrame`"
   ]
  },
  {
   "cell_type": "code",
   "execution_count": null,
   "metadata": {},
   "outputs": [],
   "source": [
    "from skmob.data.load import load_dataset, list_datasets"
   ]
  },
  {
   "cell_type": "markdown",
   "metadata": {},
   "source": [
    "### `list_datasets()`\n",
    "\n",
    "`list_datasets` shows the names and information of the datasets already available in the scikit-mobility repository;"
   ]
  },
  {
   "cell_type": "code",
   "execution_count": null,
   "metadata": {},
   "outputs": [],
   "source": [
    "# list all the datasets' names without details\n",
    "\n",
    "print(list_datasets())"
   ]
  },
  {
   "cell_type": "code",
   "execution_count": null,
   "metadata": {},
   "outputs": [],
   "source": [
    "# list all the datasets with details into a Pandas DataFrame\n",
    "dataset_details = list_datasets(details=True)\n",
    "pd.DataFrame.from_dict(dataset_details, orient='index')"
   ]
  },
  {
   "cell_type": "code",
   "execution_count": null,
   "metadata": {},
   "outputs": [],
   "source": [
    "# list all the datasets of type \"flow\" with details into a Pandas DataFrame\n",
    "dataset_details = list_datasets(data_types='flow', details=True)\n",
    "pd.DataFrame.from_dict(dataset_details, orient='index')"
   ]
  },
  {
   "cell_type": "code",
   "execution_count": null,
   "metadata": {},
   "outputs": [],
   "source": [
    "#list all the datasets of type \"trajectory\" or \"shape\" with details into a Pandas DataFrame\n",
    "dataset_details = list_datasets(data_types=['trajectory', 'shape'], details=True)\n",
    "pd.DataFrame.from_dict(dataset_details, orient='index')"
   ]
  },
  {
   "cell_type": "markdown",
   "metadata": {},
   "source": [
    "### `load_dataset()`\n",
    "\n",
    "`load_dataset` retrieves the requested dataset and directly outputs it into a skmob-friendly data structure."
   ]
  },
  {
   "cell_type": "markdown",
   "metadata": {},
   "source": [
    "#### Load the Foursquare NYC trajectory dataset"
   ]
  },
  {
   "cell_type": "code",
   "execution_count": null,
   "metadata": {},
   "outputs": [],
   "source": [
    "# loading the trajectory dataset into a TrajDataFrame\n",
    "tdf_nyc = load_dataset(\"foursquare_nyc\", drop_columns=True)\n",
    "print(type(tdf_nyc))"
   ]
  },
  {
   "cell_type": "code",
   "execution_count": null,
   "metadata": {},
   "outputs": [],
   "source": [
    "print(tdf_nyc._info)"
   ]
  },
  {
   "cell_type": "code",
   "execution_count": null,
   "metadata": {},
   "outputs": [],
   "source": [
    "type(tdf_nyc)"
   ]
  },
  {
   "cell_type": "code",
   "execution_count": null,
   "metadata": {},
   "outputs": [],
   "source": [
    "tdf_nyc.head()"
   ]
  },
  {
   "cell_type": "markdown",
   "metadata": {},
   "source": [
    "#### Load the Shape of New York City's boundaries"
   ]
  },
  {
   "cell_type": "code",
   "execution_count": null,
   "metadata": {},
   "outputs": [],
   "source": [
    "# loading the shape into a GeoDataFrame\n",
    "shape_nyc = load_dataset(\"nyc_boundaries\")\n",
    "print(type(shape_nyc))"
   ]
  },
  {
   "cell_type": "code",
   "execution_count": null,
   "metadata": {},
   "outputs": [],
   "source": [
    "print(shape_nyc._info)"
   ]
  },
  {
   "cell_type": "code",
   "execution_count": null,
   "metadata": {},
   "outputs": [],
   "source": [
    "shape_nyc = shape_nyc.to_crs(\"epsg:4326\")\n",
    "shape_nyc.head()"
   ]
  },
  {
   "cell_type": "markdown",
   "metadata": {},
   "source": [
    "#### Let's use the loaded datasets!"
   ]
  },
  {
   "cell_type": "code",
   "execution_count": null,
   "metadata": {},
   "outputs": [],
   "source": [
    "# plot the trajectories of the first 3 users over the shapefile of New York City\n",
    "\n",
    "from skmob.utils.plot import plot_gdf\n",
    "\n",
    "map_f = tdf_nyc.plot_trajectory(max_users=3)\n",
    "map_f = plot_gdf(shape_nyc, zoom=10, map_f=map_f)\n",
    "\n",
    "map_f"
   ]
  },
  {
   "cell_type": "markdown",
   "metadata": {},
   "source": [
    "<a id=\"practice1\"></a>\n",
    "## Practice\n",
    "Download and explore the [Gowalla checkins dataset](https://snap.stanford.edu/data/loc-gowalla.html).\n",
    "\n",
    "Gowalla was a location-based social networking website where users share their locations by checking-in. The dataset contains a friendship network (undirected) collected using their public API, and consists of $196,591$ nodes and $950,327$ edges. The dataset also contains a total of $6,442,890$ check-ins of these users over the period of Feb. 2009 - Oct. 2010."
   ]
  },
  {
   "cell_type": "code",
   "execution_count": null,
   "metadata": {},
   "outputs": [],
   "source": [
    "url = 'https://snap.stanford.edu/data/loc-gowalla_totalCheckins.txt.gz'\n",
    "df = pd.read_csv(url, sep = '\\t', header = 0, nrows = 100000, \n",
    "                 names = ['user', 'check-in_time', 'latitude', 'longitude', 'location id'])\n",
    "tdf_gow = skmob.TrajDataFrame(df, latitude = 'latitude', longitude = 'longitude', \n",
    "                          datetime = 'check-in_time', user_id = 'user').sort_values(by = 'datetime')\n",
    "print(len(tdf_gow))\n",
    "tdf_gow.head()"
   ]
  },
  {
   "cell_type": "code",
   "execution_count": null,
   "metadata": {},
   "outputs": [],
   "source": [
    "map_f = tdf_gow.plot_trajectory(max_users=200, start_end_markers=False, zoom=3)\n",
    "folium.Marker([0.0, 0.0], popup=\"Null Island\", tooltip=\"Null Island\").add_to(map_f)\n",
    "map_f"
   ]
  },
  {
   "cell_type": "markdown",
   "metadata": {},
   "source": [
    "Can we find checkins in null island? Make a heatmap to show it."
   ]
  },
  {
   "cell_type": "code",
   "execution_count": null,
   "metadata": {},
   "outputs": [],
   "source": [
    "map_f = folium.Map(location=[0.0, 0.0], zoom_start = 5) \n",
    "heat_data = [[row['lat'],row['lng']] for index, row in tdf_gow.iterrows()]\n",
    "HeatMap(heat_data).add_to(map_f)\n",
    "folium.Marker([0.0, 0.0], popup=\"Null Island\", tooltip=\"Null Island\").add_to(map_f)\n",
    "map_f"
   ]
  },
  {
   "cell_type": "markdown",
   "metadata": {},
   "source": [
    "Select and visualize all checkins in Pisa"
   ]
  },
  {
   "cell_type": "code",
   "execution_count": null,
   "metadata": {},
   "outputs": [],
   "source": [
    "from skmob.tessellation import tilers"
   ]
  },
  {
   "cell_type": "code",
   "execution_count": null,
   "metadata": {},
   "outputs": [],
   "source": [
    "pisa_tess = tilers.tiler.get(\"squared\", base_shape='Pisa, Italy', meters=10000)\n",
    "pisa_tess.crs = 'epsg: 4326'\n",
    "pisa_tess"
   ]
  },
  {
   "cell_type": "code",
   "execution_count": null,
   "metadata": {},
   "outputs": [],
   "source": [
    "tdf_gow.mapping(pisa_tess, remove_na=True).plot_stops()"
   ]
  },
  {
   "cell_type": "markdown",
   "metadata": {
    "id": "CGRHjiEcF2xp"
   },
   "source": [
    "<a id=\"osmnx\"></a>\n",
    "# OSMnx\n",
    "\n",
    "<img width=200, src=\"https://automating-gis-processes.github.io/CSC/_images/OSM_logo.png\"/>\n",
    "\n",
    "[***OSMnx***](https://www.sciencedirect.com/science/article/pii/S0198971516303970) is a Python package to retrieve, model, analyze, and visualize street networks from [OpenStreetMap](https://www.openstreetmap.org/). Users can download and model walkable, drivable, or bikeable urban networks with a single line of Python code, and then easily analyze and visualize them. You can just as easily download and work with amenities/points of interest, building footprints, elevation data, street bearings/orientations, and network routing. "
   ]
  },
  {
   "cell_type": "code",
   "execution_count": null,
   "metadata": {},
   "outputs": [],
   "source": [
    "import osmnx as ox"
   ]
  },
  {
   "cell_type": "markdown",
   "metadata": {},
   "source": [
    "<a id=\"getboundaries\"></a>\n",
    "## Get administrative place boundaries and shapefiles\n",
    "With OSMnx, you can download place shapes from OpenStreetMap (as geopandas `GeoDataFrame`s) in one line of Python code – and project them to UTM (zone calculated automatically) and visualize in just one more line of code:"
   ]
  },
  {
   "cell_type": "code",
   "execution_count": null,
   "metadata": {},
   "outputs": [],
   "source": [
    "city = ox.geocode_to_gdf('Rome, Italy')\n",
    "ax = ox.project_gdf(city).plot()\n",
    "_ = ax.axis('off')"
   ]
  },
  {
   "cell_type": "markdown",
   "metadata": {},
   "source": [
    "You can just as easily get other place types, such as neighborhoods, boroughs, counties, states, or nations – any place geometry in OpenStreetMap:"
   ]
  },
  {
   "cell_type": "code",
   "execution_count": null,
   "metadata": {},
   "outputs": [],
   "source": [
    "place1 = ox.geocode_to_gdf('Pisa, Italy')\n",
    "place2 = ox.geocode_to_gdf('Italy')\n",
    "place3 = ox.geocode_to_gdf('Manhattan, New York City, New York, USA')\n",
    "place4 = ox.geocode_to_gdf('Tuscany, Italy')"
   ]
  },
  {
   "cell_type": "code",
   "execution_count": null,
   "metadata": {},
   "outputs": [],
   "source": [
    "place1.plot()"
   ]
  },
  {
   "cell_type": "code",
   "execution_count": null,
   "metadata": {},
   "outputs": [],
   "source": [
    "place2.plot()"
   ]
  },
  {
   "cell_type": "code",
   "execution_count": null,
   "metadata": {},
   "outputs": [],
   "source": [
    "place3.plot()"
   ]
  },
  {
   "cell_type": "code",
   "execution_count": null,
   "metadata": {},
   "outputs": [],
   "source": [
    "place4.plot()"
   ]
  },
  {
   "cell_type": "markdown",
   "metadata": {},
   "source": [
    "Or you can pass multiple places into a single query to save a single shapefile or geopackage from their geometries. You can do this with cities, states, countries or any other geographic entities:"
   ]
  },
  {
   "cell_type": "code",
   "execution_count": null,
   "metadata": {},
   "outputs": [],
   "source": [
    "places = ox.geocode_to_gdf(['Italy', 'Austria', 'Germany'])\n",
    "places = ox.project_gdf(places)\n",
    "ax = places.plot()\n",
    "_ = ax.axis('off')"
   ]
  },
  {
   "cell_type": "code",
   "execution_count": null,
   "metadata": {},
   "outputs": [],
   "source": [
    "places"
   ]
  },
  {
   "cell_type": "markdown",
   "metadata": {},
   "source": [
    "<a id=\"pois\"></a>\n",
    "# Points of Interest and Geospatial Entities\n",
    "The `geometries` module of OSMnx allows downloading entities, such as grocery stores, transit stops, points of interest (POIs), or building footprints, and turn them into a `GeoDataFrame`.\n",
    "\n",
    "To query, pass a tags dict where keys are OSM tags. The dict's values can be either:\n",
    "\n",
    "- True to retrieve all OSM objects with this tag, regardless of its value\n",
    "- a single value as a string to retrieve all OSM objects with this tag:value combination\n",
    "- a list of string values to retrieve all OSM objects where this tag matches any of these values\n",
    "\n",
    "Pass multiple dict key:value pairs to retrieve the union (not intersection) of these pairs.\n",
    "\n",
    "See [docs](https://wiki.openstreetmap.org/wiki/Map_features)."
   ]
  },
  {
   "cell_type": "code",
   "execution_count": null,
   "metadata": {},
   "outputs": [],
   "source": [
    "# get all building footprints in some neighborhood\n",
    "# `True` means retrieve any object with this tag, regardless of value\n",
    "place = \"Aeroporto Galileo Galilei, Pisa, Italy\"\n",
    "#place = 'Bunker Hill, Los Angeles, California'\n",
    "tags = {\"building\": True}\n",
    "gdf = ox.geometries_from_place(place, tags)\n",
    "gdf.shape"
   ]
  },
  {
   "cell_type": "code",
   "execution_count": null,
   "metadata": {},
   "outputs": [],
   "source": [
    "fig, ax = ox.plot_footprints(gdf, figsize=(3, 3))"
   ]
  },
  {
   "cell_type": "code",
   "execution_count": null,
   "metadata": {},
   "outputs": [],
   "source": [
    "# get all the parks in some neighborhood\n",
    "# constrain acceptable `leisure` tag values to `park`\n",
    "place = \"Pisa, Italy\"\n",
    "tags = {\"leisure\": \"park\"}\n",
    "gdf = ox.geometries_from_place(place, tags)\n",
    "gdf.shape"
   ]
  },
  {
   "cell_type": "code",
   "execution_count": null,
   "metadata": {},
   "outputs": [],
   "source": [
    "fig, ax = ox.plot_footprints(gdf, figsize=(9, 9))"
   ]
  },
  {
   "cell_type": "code",
   "execution_count": null,
   "metadata": {},
   "outputs": [],
   "source": [
    "# get all the parks in some neighborhood\n",
    "# constrain acceptable `leisure` tag values to `park`\n",
    "place = \"Rome, Italy\"\n",
    "tags = {\"leisure\": \"park\"}\n",
    "gdf = ox.geometries_from_place(place, tags)\n",
    "gdf.shape"
   ]
  },
  {
   "cell_type": "code",
   "execution_count": null,
   "metadata": {},
   "outputs": [],
   "source": [
    "fig, ax = ox.plot_footprints(gdf, figsize=(9, 9))"
   ]
  },
  {
   "cell_type": "code",
   "execution_count": null,
   "metadata": {},
   "outputs": [],
   "source": [
    "centroid = gdf.centroid.iloc[0]\n",
    "map_f = folium.Map(location=[centroid.y, centroid.x])\n",
    "geo_j = gdf.to_json()\n",
    "geo_j = folium.GeoJson(data=geo_j,\n",
    "                       style_function=lambda x: {'fillColor': 'red', 'weight': 1})\n",
    "geo_j.add_to(map_f)\n",
    "map_f"
   ]
  },
  {
   "cell_type": "code",
   "execution_count": null,
   "metadata": {},
   "outputs": [],
   "source": [
    "# get everything tagged amenity,\n",
    "# and everything tagged landuse = retail or commercial,\n",
    "# and everything tagged highway = bus_stop\n",
    "tags = {\"amenity\": True, \"landuse\": [\"retail\", \"commercial\"], \"highway\": \"bus_stop\"}\n",
    "gdf = ox.geometries_from_place(\"Piedmont, California, USA\", tags)\n",
    "gdf.shape"
   ]
  },
  {
   "cell_type": "code",
   "execution_count": null,
   "metadata": {},
   "outputs": [],
   "source": [
    "fig, ax = ox.plot_footprints(gdf, figsize=(9, 9))"
   ]
  },
  {
   "cell_type": "code",
   "execution_count": null,
   "metadata": {},
   "outputs": [],
   "source": [
    "centroid = gdf.centroid.iloc[0]\n",
    "map_f = folium.Map(location=[centroid.y, centroid.x])\n",
    "geo_j = gdf.to_json()\n",
    "geo_j = folium.GeoJson(data=geo_j,\n",
    "                       style_function=lambda x: {'fillColor': 'red', 'weight': 1})\n",
    "geo_j.add_to(map_f)\n",
    "map_f"
   ]
  },
  {
   "cell_type": "markdown",
   "metadata": {},
   "source": [
    "## Practice: Let's take all restaurants in Lucca"
   ]
  },
  {
   "cell_type": "code",
   "execution_count": null,
   "metadata": {},
   "outputs": [],
   "source": [
    "# get all the parks in some neighborhood\n",
    "# constrain acceptable `leisure` tag values to `park`\n",
    "tags = {\"building\": 'supermarket'}\n",
    "gdf = ox.geometries_from_place('Lucca, Italy', tags)\n",
    "gdf.shape"
   ]
  },
  {
   "cell_type": "code",
   "execution_count": null,
   "metadata": {},
   "outputs": [],
   "source": [
    "gdf.head()"
   ]
  },
  {
   "cell_type": "code",
   "execution_count": null,
   "metadata": {},
   "outputs": [],
   "source": [
    "gdf.plot()"
   ]
  },
  {
   "cell_type": "code",
   "execution_count": null,
   "metadata": {},
   "outputs": [],
   "source": [
    "fig, ax = ox.plot_footprints(gdf, figsize=(9, 9))"
   ]
  },
  {
   "cell_type": "code",
   "execution_count": null,
   "metadata": {},
   "outputs": [],
   "source": [
    "centroid = gdf.centroid.iloc[0]\n",
    "map_f = folium.Map(location=[centroid.y, centroid.x], zoom_start=14)\n",
    "geo_j = gdf.to_json()\n",
    "geo_j = folium.GeoJson(data=geo_j,\n",
    "                       style_function=lambda x: {'fillColor': 'blue', 'weight': 1})\n",
    "geo_j.add_to(map_f)\n",
    "map_f"
   ]
  },
  {
   "cell_type": "markdown",
   "metadata": {},
   "source": [
    "All stadiums in London"
   ]
  },
  {
   "cell_type": "code",
   "execution_count": null,
   "metadata": {},
   "outputs": [],
   "source": [
    "# get all the parks in some neighborhood\n",
    "# constrain acceptable `leisure` tag values to `park`\n",
    "tags = {\"building\": 'stadium'}\n",
    "gdf = ox.geometries_from_place('London, UK', tags)\n",
    "gdf.shape"
   ]
  },
  {
   "cell_type": "code",
   "execution_count": null,
   "metadata": {},
   "outputs": [],
   "source": [
    "gdf"
   ]
  },
  {
   "cell_type": "code",
   "execution_count": null,
   "metadata": {},
   "outputs": [],
   "source": [
    "gdf.plot()"
   ]
  },
  {
   "cell_type": "code",
   "execution_count": null,
   "metadata": {},
   "outputs": [],
   "source": [
    "fig, ax = ox.plot_footprints(gdf, figsize=(9, 9))"
   ]
  },
  {
   "cell_type": "code",
   "execution_count": null,
   "metadata": {},
   "outputs": [],
   "source": [
    "centroid = gdf.centroid.iloc[0]\n",
    "map_f = folium.Map(location=[centroid.y, centroid.x], zoom_start=14)\n",
    "geo_j = gdf.to_json()\n",
    "geo_j = folium.GeoJson(data=geo_j,\n",
    "                       style_function=lambda x: {'fillColor': 'blue', 'weight': 1})\n",
    "geo_j.add_to(map_f)\n",
    "map_f"
   ]
  },
  {
   "cell_type": "markdown",
   "metadata": {},
   "source": [
    "<a id=\"exercises\"></a>\n",
    "## Exercises"
   ]
  },
  {
   "cell_type": "markdown",
   "metadata": {},
   "source": [
    "**Exercise 2.1**: Download Cell Towers data about France from [OpenCellID](https://opencellid.org/). Then, create and visualize (in folium) a Voronoi tessellation of GSM towers in Lyon, France.\n",
    "- Use the [geovoronoi](https://pypi.org/project/geovoronoi/) package to create the Voronoi tessellation\n",
    "- Plot the tessellation with folium (Use just a random sample if the towers if they are too many to be visualized and/or to compute the tessellation) \n"
   ]
  },
  {
   "cell_type": "code",
   "execution_count": null,
   "metadata": {},
   "outputs": [],
   "source": []
  },
  {
   "cell_type": "markdown",
   "metadata": {},
   "source": [
    "**Exercise 2.2**: Use OSMnx to download the shapes of all cinemas in Rome.\n",
    "- Plot in folium the shape of the municipality of Rome\n",
    "- Plot the smallest polygon that contains all cinemas in Rome\n",
    "- Plot the cinemas in folium with a pop-up showing their name\n",
    "- Compute the cinemas with the lowest and highest average distance to the others, and draw a circle (of radius 100m)\n"
   ]
  },
  {
   "cell_type": "code",
   "execution_count": null,
   "metadata": {},
   "outputs": [],
   "source": []
  }
 ],
 "metadata": {
  "colab": {
   "collapsed_sections": [],
   "name": "skmob02-visualization.ipynb",
   "provenance": []
  },
  "kernelspec": {
   "display_name": "Python [conda env:GSA]",
   "language": "python",
   "name": "gsa"
  },
  "language_info": {
   "codemirror_mode": {
    "name": "ipython",
    "version": 3
   },
   "file_extension": ".py",
   "mimetype": "text/x-python",
   "name": "python",
   "nbconvert_exporter": "python",
   "pygments_lexer": "ipython3",
   "version": "3.9.13"
  }
 },
 "nbformat": 4,
 "nbformat_minor": 4
}
