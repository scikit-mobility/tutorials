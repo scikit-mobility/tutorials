{
 "cells": [
  {
   "cell_type": "markdown",
   "metadata": {
    "slideshow": {
     "slide_type": "slide"
    }
   },
   "source": [
    "**First International Summer School in Data Science for Mobility (DSM)**, 3-7 October 2022, Santorini, Greece\n",
    "\n",
    "<img width=200, src=\"http://master-school.isti.cnr.it/wp-content/uploads/2022/05/logo-Summer-School-Mobility-2022.png\"/>\n",
    "\n",
    "Author: [Luca Pappalardo](https://twitter.com/lucpappalard)"
   ]
  },
  {
   "cell_type": "markdown",
   "metadata": {
    "slideshow": {
     "slide_type": "subslide"
    }
   },
   "source": [
    "# Mobility Measures\n",
    "\n",
    "We can compute on a `TrajDataFrame` two types of measures:\n",
    "\n",
    "- **individual measures**, describing features related to the mobility patterns of a single individual\n",
    "- **collective measures**, describing the mobility patterns of an entire population of individuals"
   ]
  },
  {
   "cell_type": "code",
   "execution_count": null,
   "metadata": {
    "slideshow": {
     "slide_type": "subslide"
    }
   },
   "outputs": [],
   "source": [
    "# let's import some useful libraries\n",
    "%matplotlib inline\n",
    "import matplotlib.pyplot as plt\n",
    "from scipy.stats import gaussian_kde\n",
    "import pandas as pd\n",
    "from tqdm import tqdm\n",
    "import folium\n",
    "from folium.plugins import HeatMap\n",
    "from stats_utils import *\n",
    "import stats_utils\n",
    "import warnings\n",
    "warnings.filterwarnings('ignore')"
   ]
  },
  {
   "cell_type": "code",
   "execution_count": null,
   "metadata": {
    "slideshow": {
     "slide_type": "fragment"
    }
   },
   "outputs": [],
   "source": [
    "# let's import skmob's data structures\n",
    "import skmob\n",
    "from skmob import TrajDataFrame, FlowDataFrame"
   ]
  },
  {
   "cell_type": "markdown",
   "metadata": {
    "slideshow": {
     "slide_type": "slide"
    }
   },
   "source": [
    "## Loading the data\n",
    "- We load data of *checkins* made by users on **Brightkite**\n",
    "- Brightkite is a location-based social network (LBSN)\n",
    "- The dataset is freely available at the SNAP website: https://snap.stanford.edu/data/loc-brightkite.html"
   ]
  },
  {
   "cell_type": "code",
   "execution_count": null,
   "metadata": {
    "slideshow": {
     "slide_type": "subslide"
    }
   },
   "outputs": [],
   "source": [
    "# download the dataset using pandas\n",
    "#url = \"https://snap.stanford.edu/data/loc-brightkite_totalCheckins.txt.gz\"\n",
    "url = \"data/loc-brightkite_totalCheckins.txt.gz\"\n",
    "df = pd.read_csv(url, sep='\\t', header=0, nrows=500000, \n",
    "                 names=['user', 'check-in_time', \"latitude\", \"longitude\", \n",
    "                        \"location id\"])\n",
    "\n",
    "# convert the pandas DataFrame into an skmob TrajDataFrame\n",
    "tdf = skmob.TrajDataFrame(df, latitude='latitude', \n",
    "            longitude='longitude', datetime='check-in_time', user_id='user')\n",
    "print(tdf.shape)\n",
    "tdf.head()"
   ]
  },
  {
   "cell_type": "code",
   "execution_count": null,
   "metadata": {
    "slideshow": {
     "slide_type": "subslide"
    }
   },
   "outputs": [],
   "source": [
    "print(\"number of users:\\t\", len(tdf.uid.unique()))\n",
    "print(\"number of records:\\t\", len(tdf))"
   ]
  },
  {
   "cell_type": "markdown",
   "metadata": {
    "slideshow": {
     "slide_type": "slide"
    }
   },
   "source": [
    "## Individual measures\n",
    "\n",
    "- computed on the trajectories of a <u>single individual</u>\n",
    "- quantify standard *mobility patterns*\n",
    "- examples: \n",
    "    - radius of gyration\n",
    "    - jump lengths\n",
    "    - max distance\n",
    "    - individual mobility network"
   ]
  },
  {
   "cell_type": "markdown",
   "metadata": {
    "slideshow": {
     "slide_type": "slide"
    }
   },
   "source": [
    "### Radius of gyration $r_g$\n",
    "characteristic distance traveled by an individual:\n",
    "\n",
    "$$r_g = \\sqrt{\\frac{1}{N} \\sum_{i=1}^N (\\mathbf{r}_i - \\mathbf{r}_{cm})^2}$$\n",
    "\n",
    "$r_{cm}$ is the position vector of the *center of mass* of the set of locations visited by the individual"
   ]
  },
  {
   "cell_type": "code",
   "execution_count": null,
   "metadata": {
    "slideshow": {
     "slide_type": "slide"
    }
   },
   "outputs": [],
   "source": [
    "from skmob.measures.individual import radius_of_gyration"
   ]
  },
  {
   "cell_type": "code",
   "execution_count": null,
   "metadata": {
    "scrolled": true,
    "slideshow": {
     "slide_type": "fragment"
    }
   },
   "outputs": [],
   "source": [
    "rg_df = radius_of_gyration(tdf)"
   ]
  },
  {
   "cell_type": "code",
   "execution_count": null,
   "metadata": {},
   "outputs": [],
   "source": [
    "rg_df.head()"
   ]
  },
  {
   "cell_type": "code",
   "execution_count": null,
   "metadata": {
    "scrolled": true,
    "slideshow": {
     "slide_type": "slide"
    }
   },
   "outputs": [],
   "source": [
    "# let's plot the distribution of the radius of gyration\n",
    "fig = plt.figure(figsize=(4, 4))\n",
    "rg_list = list(rg_df[rg_df['radius_of_gyration'] > 1.0]['radius_of_gyration'])\n",
    "x, y = zip(*lbpdf(1.5, rg_list))\n",
    "plt.plot(x, y, marker='o')\n",
    "plt.xlabel('$r_g$ [km]', fontsize=20)\n",
    "plt.ylabel('P($r_g$)', fontsize=20)\n",
    "plt.grid(alpha=0.2)\n",
    "plt.loglog()\n",
    "plt.show()"
   ]
  },
  {
   "cell_type": "markdown",
   "metadata": {
    "slideshow": {
     "slide_type": "slide"
    }
   },
   "source": [
    "### Jump lengths\n",
    "- a jump length is is the distance between two consecutive visits of an individual\n",
    "- given a `TrajDataFrame`, skmob computes the lengths for each individual independently\n",
    "- use the `jump_lengths` function"
   ]
  },
  {
   "cell_type": "code",
   "execution_count": null,
   "metadata": {
    "slideshow": {
     "slide_type": "slide"
    }
   },
   "outputs": [],
   "source": [
    "from skmob.measures.individual import jump_lengths"
   ]
  },
  {
   "cell_type": "code",
   "execution_count": null,
   "metadata": {
    "scrolled": true,
    "slideshow": {
     "slide_type": "fragment"
    }
   },
   "outputs": [],
   "source": [
    "jl_df = jump_lengths(tdf) # disable progress bar with show_progress=False\n",
    "jl_df.head()"
   ]
  },
  {
   "cell_type": "code",
   "execution_count": null,
   "metadata": {
    "slideshow": {
     "slide_type": "fragment"
    }
   },
   "outputs": [],
   "source": [
    "# merge=True put all distances of the individuals into a single list\n",
    "jl_list = jump_lengths(tdf, merge=True)\n",
    "type(jl_list)"
   ]
  },
  {
   "cell_type": "code",
   "execution_count": null,
   "metadata": {
    "code_folding": [],
    "slideshow": {
     "slide_type": "slide"
    }
   },
   "outputs": [],
   "source": [
    "# let's plot the distribution of jump lengths\n",
    "fig = plt.figure(figsize=(4, 4))\n",
    "d_list = [dist for dist in jl_list if dist >= 1]\n",
    "x, y = zip(*lbpdf(1.5, d_list))\n",
    "plt.plot(x, y, marker='o')\n",
    "plt.xlabel('jump length [km]', fontsize=15);plt.ylabel('P(jump length)', fontsize=15)\n",
    "plt.grid(alpha=0.2)\n",
    "plt.loglog()\n",
    "plt.show()"
   ]
  },
  {
   "cell_type": "markdown",
   "metadata": {
    "slideshow": {
     "slide_type": "slide"
    }
   },
   "source": [
    "### Distances\n",
    "\n",
    "- maximum distance traveled by each individual `maximum_distance`\n"
   ]
  },
  {
   "cell_type": "code",
   "execution_count": null,
   "metadata": {
    "slideshow": {
     "slide_type": "fragment"
    }
   },
   "outputs": [],
   "source": [
    "from skmob.measures.individual import max_distance_from_home, distance_straight_line, maximum_distance"
   ]
  },
  {
   "cell_type": "code",
   "execution_count": null,
   "metadata": {
    "slideshow": {
     "slide_type": "fragment"
    }
   },
   "outputs": [],
   "source": [
    "md_df = maximum_distance(tdf)\n",
    "md_df.head()"
   ]
  },
  {
   "cell_type": "code",
   "execution_count": null,
   "metadata": {
    "slideshow": {
     "slide_type": "slide"
    }
   },
   "outputs": [],
   "source": [
    "# let's plot the distribution\n",
    "fig, ax1 = plt.subplots(1, 1)\n",
    "ax1.hist(md_df.maximum_distance, bins=50, rwidth=0.8)\n",
    "ax1.set_xlabel('max', fontsize=15)\n",
    "plt.show()"
   ]
  },
  {
   "cell_type": "markdown",
   "metadata": {
    "slideshow": {
     "slide_type": "slide"
    }
   },
   "source": [
    "### Individual mobility network\n",
    "a network where: \n",
    "- nodes represent locations visited by the individual\n",
    "- directed edges represent trips between the locations made by the individual "
   ]
  },
  {
   "cell_type": "code",
   "execution_count": null,
   "metadata": {
    "slideshow": {
     "slide_type": "fragment"
    }
   },
   "outputs": [],
   "source": [
    "from skmob.measures.individual import individual_mobility_network"
   ]
  },
  {
   "cell_type": "code",
   "execution_count": null,
   "metadata": {
    "slideshow": {
     "slide_type": "slide"
    }
   },
   "outputs": [],
   "source": [
    "imn_df = individual_mobility_network(tdf)\n",
    "imn_df.head()"
   ]
  },
  {
   "cell_type": "code",
   "execution_count": null,
   "metadata": {
    "slideshow": {
     "slide_type": "fragment"
    }
   },
   "outputs": [],
   "source": [
    "an_imn = imn_df[imn_df.uid == 2]\n",
    "an_imn.sort_values(by='n_trips', ascending=False).head(5)"
   ]
  },
  {
   "cell_type": "markdown",
   "metadata": {
    "slideshow": {
     "slide_type": "slide"
    }
   },
   "source": [
    "## Collective measures\n",
    "\n",
    "- are computed on the trajectories of a <u>population of individuals</u>\n",
    "- quantify standard *mobility patterns*\n",
    "- examples: \n",
    "    - visits per time unit\n",
    "    - origin destination matrix"
   ]
  },
  {
   "cell_type": "markdown",
   "metadata": {
    "slideshow": {
     "slide_type": "slide"
    }
   },
   "source": [
    "### Visits per location\n",
    "\n",
    "number of visits to a location made by the population of individuals"
   ]
  },
  {
   "cell_type": "code",
   "execution_count": null,
   "metadata": {
    "slideshow": {
     "slide_type": "fragment"
    }
   },
   "outputs": [],
   "source": [
    "from skmob.measures.collective import visits_per_location"
   ]
  },
  {
   "cell_type": "code",
   "execution_count": null,
   "metadata": {
    "slideshow": {
     "slide_type": "fragment"
    }
   },
   "outputs": [],
   "source": [
    "vpl_df = visits_per_location(tdf)\n",
    "vpl_df.head()"
   ]
  },
  {
   "cell_type": "code",
   "execution_count": null,
   "metadata": {
    "slideshow": {
     "slide_type": "slide"
    }
   },
   "outputs": [],
   "source": [
    "fig = plt.figure(figsize=(4, 4))\n",
    "x, y = zip(*lbpdf(1.5, list(vpl_df.n_visits)))\n",
    "plt.plot(x, y, marker='o')\n",
    "plt.xlabel('visits per location', fontsize=15)\n",
    "plt.loglog() \n",
    "plt.show()"
   ]
  },
  {
   "cell_type": "markdown",
   "metadata": {
    "slideshow": {
     "slide_type": "subslide"
    }
   },
   "source": [
    "### Many many other measures can be computed with scikit-mobility. \n",
    "#### Just check the documentation https://scikit-mobility.github.io/scikit-mobility/reference/measures.html"
   ]
  },
  {
   "cell_type": "code",
   "execution_count": null,
   "metadata": {},
   "outputs": [],
   "source": []
  }
 ],
 "metadata": {
  "anaconda-cloud": {},
  "celltoolbar": "Slideshow",
  "hide_input": false,
  "kernelspec": {
   "display_name": "Python [conda env:GSA]",
   "language": "python",
   "name": "gsa"
  },
  "language_info": {
   "codemirror_mode": {
    "name": "ipython",
    "version": 3
   },
   "file_extension": ".py",
   "mimetype": "text/x-python",
   "name": "python",
   "nbconvert_exporter": "python",
   "pygments_lexer": "ipython3",
   "version": "3.9.13"
  },
  "latex_envs": {
   "LaTeX_envs_menu_present": true,
   "autoclose": false,
   "autocomplete": true,
   "bibliofile": "biblio.bib",
   "cite_by": "apalike",
   "current_citInitial": 1,
   "eqLabelWithNumbers": true,
   "eqNumInitial": 1,
   "hotkeys": {
    "equation": "Ctrl-E",
    "itemize": "Ctrl-I"
   },
   "labels_anchors": false,
   "latex_user_defs": false,
   "report_style_numbering": true,
   "user_envs_cfg": false
  }
 },
 "nbformat": 4,
 "nbformat_minor": 4
}
