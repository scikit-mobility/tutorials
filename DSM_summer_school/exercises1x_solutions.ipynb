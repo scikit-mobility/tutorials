{
 "cells": [
  {
   "cell_type": "markdown",
   "id": "ca185b9a-ba0c-4f97-aa91-eda58f13b5cb",
   "metadata": {},
   "source": [
    "# Exercises 1.x"
   ]
  },
  {
   "cell_type": "markdown",
   "id": "3f846081-fbe4-46d1-88b6-fb25a374d132",
   "metadata": {},
   "source": [
    "## Exercise 1.1\n",
    "Compute the area of Italian geographic subdivisions (regions, provinces, municipalities) using GeoPandas and plot their area as a bar chart\n",
    "- Download a shapefile that describe Italian regions (e.g., [here](https://gadm.org/download_country.html))\n",
    "- Make a [bar chart](https://matplotlib.org/stable/api/_as_gen/matplotlib.pyplot.bar.html), put the regions in increasing order of area (put the region’s name on the x axis)\n",
    "- Repeat for provinces and municipalities (plot only the 100 municipalities with the highest area)\n",
    "- Plot the shape of each region (in blue), with the shape of its capital municipality (in red)\n"
   ]
  },
  {
   "cell_type": "code",
   "execution_count": null,
   "id": "62b6b597-65ff-470d-a98d-bffbf92682a2",
   "metadata": {},
   "outputs": [],
   "source": [
    "%matplotlib inline\n",
    "import matplotlib.pyplot as plt\n",
    "import geopandas as gpd"
   ]
  },
  {
   "cell_type": "markdown",
   "id": "fe486eeb-2aaa-4519-8b50-e0c6e1e074e2",
   "metadata": {},
   "source": [
    "### Regions"
   ]
  },
  {
   "cell_type": "code",
   "execution_count": null,
   "id": "d5140053-0eb6-4911-9aaf-f5f17c06d6d5",
   "metadata": {},
   "outputs": [],
   "source": [
    "regions = gpd.read_file('data/gadm41_ITA_shp/gadm41_ITA_1.shp', crs='EPSG:4326')\n",
    "regions.set_index('NAME_1', inplace=True)\n",
    "regions.head()"
   ]
  },
  {
   "cell_type": "code",
   "execution_count": null,
   "id": "4b4f3815-1604-44ef-9cd6-23d12ce70477",
   "metadata": {},
   "outputs": [],
   "source": [
    "regions['region_area'] = regions.area"
   ]
  },
  {
   "cell_type": "code",
   "execution_count": null,
   "id": "351f64e9-7afa-483b-ab90-bce0989f6ec5",
   "metadata": {},
   "outputs": [],
   "source": [
    "regions.head()"
   ]
  },
  {
   "cell_type": "code",
   "execution_count": null,
   "id": "e831f75a-3cd6-45fc-b917-de28505ea3f3",
   "metadata": {},
   "outputs": [],
   "source": [
    "regions.plot()"
   ]
  },
  {
   "cell_type": "code",
   "execution_count": null,
   "id": "3eed9f32-30ea-4535-b554-e988345dc039",
   "metadata": {},
   "outputs": [],
   "source": [
    "regions.sort_values(by='region_area').plot(kind='bar')"
   ]
  },
  {
   "cell_type": "markdown",
   "id": "9844633e-d1bf-4346-b9b9-629c6d523920",
   "metadata": {},
   "source": [
    "### Provinces"
   ]
  },
  {
   "cell_type": "code",
   "execution_count": null,
   "id": "fe56c218-2e40-448f-bce2-f917faed710a",
   "metadata": {},
   "outputs": [],
   "source": [
    "provinces = gpd.read_file('data/gadm41_ITA_shp/gadm41_ITA_2.shp', crs='EPSG:4326')\n",
    "provinces.set_index('NAME_2', inplace=True)\n",
    "provinces.head()"
   ]
  },
  {
   "cell_type": "code",
   "execution_count": null,
   "id": "5672c597-40e8-4552-8fb4-10d93f677ee7",
   "metadata": {},
   "outputs": [],
   "source": [
    "provinces.plot()"
   ]
  },
  {
   "cell_type": "code",
   "execution_count": null,
   "id": "ceaf0cc1-e326-4e5d-b76a-c12170c8fcf5",
   "metadata": {},
   "outputs": [],
   "source": [
    "provinces['province_area'] = provinces.area"
   ]
  },
  {
   "cell_type": "code",
   "execution_count": null,
   "id": "d90f1bc1-733f-4a0e-b454-88fc868b69e6",
   "metadata": {},
   "outputs": [],
   "source": [
    "fig = plt.figure(figsize=(20, 6))\n",
    "ax = plt.axes()\n",
    "provinces.sort_values(by='province_area').plot(kind='bar', ax=ax)"
   ]
  },
  {
   "cell_type": "markdown",
   "id": "b64a50fb-56dd-43ad-9ca5-34e064e7680f",
   "metadata": {},
   "source": [
    "### Municipalities"
   ]
  },
  {
   "cell_type": "code",
   "execution_count": null,
   "id": "91078ace-6084-4f00-9b69-e2bbff1a9ce6",
   "metadata": {},
   "outputs": [],
   "source": [
    "municipalities = gpd.read_file('data/gadm41_ITA_shp/gadm41_ITA_3.shp', crs='EPSG:4326')\n",
    "municipalities.set_index('NAME_3', inplace=True)\n",
    "municipalities.head()"
   ]
  },
  {
   "cell_type": "code",
   "execution_count": null,
   "id": "be7dd1f8-c788-4ada-8279-f14533c0c9f8",
   "metadata": {},
   "outputs": [],
   "source": [
    "fig = plt.figure(figsize=(20, 20))\n",
    "ax = plt.axes()\n",
    "municipalities.plot(ax=ax)"
   ]
  },
  {
   "cell_type": "code",
   "execution_count": null,
   "id": "79954a3b-871b-4efb-aaa2-3a0846f62c83",
   "metadata": {},
   "outputs": [],
   "source": [
    "municipalities['mun_area'] = municipalities.area"
   ]
  },
  {
   "cell_type": "code",
   "execution_count": null,
   "id": "2ac3840d-ccd5-4380-96dc-51e2ba9e6e43",
   "metadata": {},
   "outputs": [],
   "source": [
    "municipalities['mun_area'].sort_values()"
   ]
  },
  {
   "cell_type": "code",
   "execution_count": null,
   "id": "2651fa52-bf57-4037-8c81-f9ba05cce033",
   "metadata": {},
   "outputs": [],
   "source": [
    "fig = plt.figure(figsize=(20, 6))\n",
    "ax = plt.axes()\n",
    "municipalities.sort_values(by='mun_area').tail(100).plot(kind='bar', ax=ax)"
   ]
  },
  {
   "cell_type": "code",
   "execution_count": null,
   "id": "fb12f25d-77ae-4a4a-a62c-f2a849a7a597",
   "metadata": {},
   "outputs": [],
   "source": [
    "fig = plt.figure(figsize=(20, 20))\n",
    "ax = plt.axes()\n",
    "ax_reg = regions.loc[['Lazio']].plot(color='k', ax=ax)\n",
    "ax_prov = provinces.loc[['Roma']].plot(ax=ax_reg, color='b')\n",
    "municipalities.loc[['Roma']].plot(ax=ax_prov, color='r')"
   ]
  },
  {
   "cell_type": "code",
   "execution_count": null,
   "id": "b8700848-f705-4a64-a1f1-5fbdff166686",
   "metadata": {},
   "outputs": [],
   "source": [
    "region_capitals = [\"L' Aquila\", 'Potenza', 'Catanzaro', 'Napoli', 'Bologna', 'Trieste', 'Roma', 'Genova',\n",
    "                  'Milano', 'Ancona', 'Campobasso', 'Torino', 'Bari', 'Cagliari', 'Palermo', 'Firenze',\n",
    "                  'Trento', 'Perugia', 'Aosta', 'Venezia']"
   ]
  },
  {
   "cell_type": "code",
   "execution_count": null,
   "id": "50950b4f-b698-4673-a47e-86d6338f0654",
   "metadata": {},
   "outputs": [],
   "source": [
    "fig = plt.figure(figsize=(20, 20))\n",
    "ax = plt.axes()\n",
    "ax_reg = regions.plot(ax=ax, color='k')\n",
    "ax_mun = municipalities[municipalities.index.isin(region_capitals)].plot(ax=ax_reg, color='r')        "
   ]
  },
  {
   "cell_type": "markdown",
   "id": "6d19bb28-c90c-4314-a2a8-183659cbc2c2",
   "metadata": {},
   "source": [
    "## Exercise 1.2\n",
    "Create and plot a GeoDataFrame with the top 1% and the bottom 1% municipalities in Italy based on their area:\n",
    "- Download a shapefile that describe Italian regions (e.g., [here](https://gadm.org/download_country.html))\n",
    "- Create a GeoDataFrame with two rows (top 1% and bottom 1%) and the corresponding multipolygons\n",
    "- Plot the multipolygons with folium"
   ]
  },
  {
   "cell_type": "code",
   "execution_count": null,
   "id": "1fb70649-8878-4569-8f53-b6a69e0dca52",
   "metadata": {},
   "outputs": [],
   "source": [
    "import matplotlib.pyplot as plt\n",
    "import geopandas as gpd\n",
    "import shapely"
   ]
  },
  {
   "cell_type": "code",
   "execution_count": null,
   "id": "10f690c6-1cee-4477-946e-1eb60314465f",
   "metadata": {},
   "outputs": [],
   "source": [
    "municipalities = gpd.read_file('data/gadm41_ITA_shp/gadm41_ITA_3.shp', crs='EPSG:4326')\n",
    "municipalities.set_index('NAME_3', inplace=True)\n",
    "municipalities.head(2)"
   ]
  },
  {
   "cell_type": "code",
   "execution_count": null,
   "id": "2c71ea4f-a696-40e7-8e12-f8b60fdd720d",
   "metadata": {},
   "outputs": [],
   "source": [
    "municipalities['mun_area'] = municipalities.area"
   ]
  },
  {
   "cell_type": "markdown",
   "id": "194a03e5-15a5-473d-8241-07d889e26793",
   "metadata": {},
   "source": [
    "### Top 1%"
   ]
  },
  {
   "cell_type": "code",
   "execution_count": null,
   "id": "9835bc61-7a0a-4504-b731-69ed0db53d54",
   "metadata": {},
   "outputs": [],
   "source": [
    "top_1_municipalities = municipalities.sort_values(by='mun_area', ascending=False).head(int(len(municipalities)*(1/100)))"
   ]
  },
  {
   "cell_type": "code",
   "execution_count": null,
   "id": "8b170b84-99e5-428f-9ddf-fa00a6ffe908",
   "metadata": {},
   "outputs": [],
   "source": [
    "top_1_municipalities.plot()"
   ]
  },
  {
   "cell_type": "markdown",
   "id": "ba8b93e0-71b2-4948-b5de-645d8f5fa317",
   "metadata": {},
   "source": [
    "### Bottom 1%"
   ]
  },
  {
   "cell_type": "code",
   "execution_count": null,
   "id": "e6985f7a-fd3b-45f1-9c52-47dd3a77f6d1",
   "metadata": {},
   "outputs": [],
   "source": [
    "bottom_1_municipalities = municipalities.sort_values(by='mun_area').head(int(len(municipalities)*(1/100)))"
   ]
  },
  {
   "cell_type": "code",
   "execution_count": null,
   "id": "af2c2d01-ea5e-4868-948f-4135235f5037",
   "metadata": {},
   "outputs": [],
   "source": [
    "fig = plt.figure(figsize=(10, 10))\n",
    "ax = plt.axes()\n",
    "bottom_1_municipalities.plot(color='r', ax=ax)"
   ]
  },
  {
   "cell_type": "code",
   "execution_count": null,
   "id": "5b0f2f30-6d61-4ab3-ac7b-ce304284a8ca",
   "metadata": {},
   "outputs": [],
   "source": [
    "from shapely.geometry import MultiPoint, MultiLineString, MultiPolygon"
   ]
  },
  {
   "cell_type": "code",
   "execution_count": null,
   "id": "bce5a432-79ca-4259-86bb-55fe09bab794",
   "metadata": {},
   "outputs": [],
   "source": [
    "multi_poly_top_1 = MultiPolygon(list(top_1_municipalities['geometry']))"
   ]
  },
  {
   "cell_type": "code",
   "execution_count": null,
   "id": "afbdf5e4-5a09-40f2-bef1-cc80ec39eddf",
   "metadata": {},
   "outputs": [],
   "source": [
    "multi_poly_top_1"
   ]
  },
  {
   "cell_type": "code",
   "execution_count": null,
   "id": "4feaf395-7822-495e-ad24-4714374750ef",
   "metadata": {},
   "outputs": [],
   "source": [
    "multi_poly_bottom_1 = MultiPolygon(list(bottom_1_municipalities['geometry']))"
   ]
  },
  {
   "cell_type": "code",
   "execution_count": null,
   "id": "ec4eae2f-8e20-4626-b720-2ee554678370",
   "metadata": {},
   "outputs": [],
   "source": [
    "multi_poly_bottom_1"
   ]
  },
  {
   "cell_type": "code",
   "execution_count": null,
   "id": "53a6cfed-04e0-4082-af10-226badfa0734",
   "metadata": {},
   "outputs": [],
   "source": [
    "gdf = gpd.GeoDataFrame([['top1', multi_poly_top_1], ['bottom1', multi_poly_bottom_1]], columns=['cat', 'geometry'])\n",
    "gdf"
   ]
  },
  {
   "cell_type": "code",
   "execution_count": null,
   "id": "faa4c651-0e21-4b4b-b2e4-02f132154dd6",
   "metadata": {},
   "outputs": [],
   "source": [
    "import folium"
   ]
  },
  {
   "cell_type": "code",
   "execution_count": null,
   "id": "36c60ace-4a78-4080-b939-d8ec75b35382",
   "metadata": {},
   "outputs": [],
   "source": [
    "map_f = folium.Map(\n",
    "    location=[multi_poly_bottom_1.centroid.y, multi_poly_bottom_1.centroid.x],\n",
    "    tiles=\"cartodbpositron\",\n",
    "    zoom_start=5,\n",
    ")"
   ]
  },
  {
   "cell_type": "code",
   "execution_count": null,
   "id": "56484c2b-4a9e-4c74-9cf9-57c651a33768",
   "metadata": {},
   "outputs": [],
   "source": [
    "for i, row in gdf.iterrows():\n",
    "    sim_geo = gpd.GeoSeries(row['geometry'])\n",
    "    geo_j = sim_geo.to_json()\n",
    "    geo_j = folium.GeoJson(data=geo_j,\n",
    "                           style_function=lambda x: {'fillColor': 'orange', 'color': 'blue', 'weight': 1})\n",
    "    folium.Popup(row['cat']).add_to(geo_j)\n",
    "    geo_j.add_to(map_f)\n",
    "map_f"
   ]
  },
  {
   "cell_type": "markdown",
   "id": "ac22a004-5f9d-4a79-af46-f6794a58c618",
   "metadata": {},
   "source": [
    "## Exercise 1.3\n",
    "Several [\"Los Pollos Hermanos\"](https://en.wikipedia.org/wiki/Los_Pollos_Hermanos) vans, carrying large quantities of methamphetamine (meth), were attacked by a drug cartel 10 times in an area in New Mexico. The DEA thinks the meth lab is at the centroid of this area.\n",
    "- Compute the smallest polygon that contains all the points corresponding to the attacks\n",
    "- Create a `GeometryCollection` that contains New Mexico, the polygon, and the points within it\n",
    "- Visualize the collection and the centroid in folium (use markers for points, color the centroid differently)\n",
    "- Randomly generate the attacks’ points in New Mexico"
   ]
  },
  {
   "cell_type": "code",
   "execution_count": null,
   "id": "d0c5819e-184d-438f-9be6-cb251f09c7f1",
   "metadata": {},
   "outputs": [],
   "source": [
    "import geopandas as gpd\n",
    "import osmnx as ox"
   ]
  },
  {
   "cell_type": "code",
   "execution_count": null,
   "id": "beac00aa-7b68-405c-8a83-ba1817bf7201",
   "metadata": {},
   "outputs": [],
   "source": [
    "nm_gdf = ox.geocode_to_gdf('New Mexico, US')\n",
    "ax = ox.project_gdf(nm_gdf).plot()\n",
    "_ = ax.axis('off')"
   ]
  },
  {
   "cell_type": "code",
   "execution_count": null,
   "id": "f084a65d-46fa-4e8b-b0e3-c38fc5be75a5",
   "metadata": {},
   "outputs": [],
   "source": [
    "nm_poly = nm_gdf['geometry'].iloc[0]\n",
    "nm_poly"
   ]
  },
  {
   "cell_type": "code",
   "execution_count": null,
   "id": "cbb84292-105b-499e-a461-33e56cdbf97a",
   "metadata": {},
   "outputs": [],
   "source": [
    "minx, miny, maxx, maxy = nm_poly.bounds"
   ]
  },
  {
   "cell_type": "code",
   "execution_count": null,
   "id": "9beadb3a-ce99-43b6-9869-312e76d09452",
   "metadata": {},
   "outputs": [],
   "source": [
    "import numpy as np\n",
    "from shapely.geometry import Point, MultiPoint\n",
    "from shapely.geometry.collection import GeometryCollection"
   ]
  },
  {
   "cell_type": "code",
   "execution_count": null,
   "id": "b62f06c4-9fbc-4426-b438-13027ecd502a",
   "metadata": {},
   "outputs": [],
   "source": [
    "n_points = 10\n",
    "points = []\n",
    "while len(points) < 10:\n",
    "    pnt = Point(np.random.uniform(minx, maxx), np.random.uniform(miny, maxy))\n",
    "    if nm_poly.contains(pnt):\n",
    "        points.append(pnt)"
   ]
  },
  {
   "cell_type": "code",
   "execution_count": null,
   "id": "db910665-f122-470d-a8f1-d9360f750764",
   "metadata": {},
   "outputs": [],
   "source": [
    "points = MultiPoint(points)\n",
    "points"
   ]
  },
  {
   "cell_type": "code",
   "execution_count": null,
   "id": "484b4762-9996-4f74-83e4-f6fb8877ef5e",
   "metadata": {},
   "outputs": [],
   "source": [
    "ch_poly = points.convex_hull\n",
    "ch_poly"
   ]
  },
  {
   "cell_type": "code",
   "execution_count": null,
   "id": "9c413486-4ae0-4b8a-96af-9dfed28adc33",
   "metadata": {},
   "outputs": [],
   "source": [
    "centroid = points.centroid"
   ]
  },
  {
   "cell_type": "code",
   "execution_count": null,
   "id": "e25d3876-3b16-4a00-84ab-98ba66fce95e",
   "metadata": {},
   "outputs": [],
   "source": [
    "collection = GeometryCollection([nm_poly, ch_poly, points])"
   ]
  },
  {
   "cell_type": "code",
   "execution_count": null,
   "id": "00b20e01-9587-4339-a440-5e84ca1bf5b5",
   "metadata": {},
   "outputs": [],
   "source": [
    "collection"
   ]
  },
  {
   "cell_type": "code",
   "execution_count": null,
   "id": "27b77655-130c-4e9c-a7b0-be70ee7614a6",
   "metadata": {},
   "outputs": [],
   "source": [
    "import folium"
   ]
  },
  {
   "cell_type": "code",
   "execution_count": null,
   "id": "d3c4bfb5-1580-4766-8461-f561c33ca7d7",
   "metadata": {},
   "outputs": [],
   "source": [
    "map_f = folium.Map(location=[nm_poly.centroid.y, nm_poly.centroid.x], zoom_start=6)"
   ]
  },
  {
   "cell_type": "code",
   "execution_count": null,
   "id": "1e3bea98-f44e-4127-8a7f-04c8a06e1e29",
   "metadata": {},
   "outputs": [],
   "source": [
    "sim_geo = gpd.GeoSeries(collection)\n",
    "geo_j = sim_geo.to_json()\n",
    "geo_j = folium.GeoJson(data=geo_j,\n",
    "            style_function=lambda x: {'fillColor': 'orange', 'color': 'blue', 'weight': 1})\n",
    "geo_j.add_to(map_f)\n",
    "\n",
    "folium.Marker(\n",
    "    location=[centroid.y, centroid.x],\n",
    "    popup=\"Meth Lab!\",\n",
    "    icon=folium.Icon(color=\"red\", icon=\"info-sign\"),\n",
    ").add_to(map_f)\n",
    "\n",
    "map_f"
   ]
  },
  {
   "cell_type": "code",
   "execution_count": null,
   "id": "47ee942f-fafe-4caa-9f2a-4da78704349a",
   "metadata": {},
   "outputs": [],
   "source": []
  }
 ],
 "metadata": {
  "kernelspec": {
   "display_name": "Python [conda env:GSA]",
   "language": "python",
   "name": "gsa"
  },
  "language_info": {
   "codemirror_mode": {
    "name": "ipython",
    "version": 3
   },
   "file_extension": ".py",
   "mimetype": "text/x-python",
   "name": "python",
   "nbconvert_exporter": "python",
   "pygments_lexer": "ipython3",
   "version": "3.9.13"
  }
 },
 "nbformat": 4,
 "nbformat_minor": 5
}
